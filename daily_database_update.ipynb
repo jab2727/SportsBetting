{
 "cells": [
  {
   "cell_type": "code",
   "execution_count": 1,
   "id": "a44e13c4",
   "metadata": {},
   "outputs": [],
   "source": [
    "import time\n",
    "import random\n",
    "import sqlite3\n",
    "import numpy as np\n",
    "import pandas as pd\n",
    "from tqdm import tqdm\n",
    "from datetime import datetime\n",
    "from keras import layers, models\n",
    "from selenium import webdriver\n",
    "from selenium.webdriver.common.by import By\n",
    "from selenium.webdriver.chrome.service import Service\n"
   ]
  },
  {
   "cell_type": "code",
   "execution_count": 2,
   "id": "f255b393",
   "metadata": {},
   "outputs": [],
   "source": [
    "# This opens a connection to two SQL databases.\n",
    "schedule_connection = sqlite3.connect('nba-schedule.db')\n",
    "schedule_cursor = schedule_connection.cursor()\n",
    "\n",
    "player_connection = sqlite3.connect('nba-players.db')\n",
    "player_cursor = player_connection.cursor()\n"
   ]
  },
  {
   "cell_type": "code",
   "execution_count": 3,
   "id": "b331452a",
   "metadata": {},
   "outputs": [],
   "source": [
    "# This block gets me today's date, and the date of our most recent database entry.\n",
    "\n",
    "current_year = int(datetime.today().strftime('%Y'))\n",
    "current_month = int(datetime.today().strftime('%m'))\n",
    "current_day = int(datetime.today().strftime('%d')) \n",
    "if current_month > 9:\n",
    "    current_season = current_year + 1\n",
    "else:\n",
    "    current_season = current_year\n",
    "    \n",
    "schedule_cursor.execute(\"SELECT year, month, day FROM games ORDER BY rowid DESC LIMIT 1\")\n",
    "most_recent = schedule_cursor.fetchall()\n",
    "most_recent_year = most_recent[0][0]\n",
    "most_recent_month = most_recent[0][1] \n",
    "most_recent_day = most_recent[0][2] \n",
    "if most_recent_month > 9:\n",
    "    recent_season = most_recent_year + 1\n",
    "else:\n",
    "    recent_season = most_recent_year"
   ]
  },
  {
   "cell_type": "code",
   "execution_count": 4,
   "id": "60666cd3",
   "metadata": {},
   "outputs": [],
   "source": [
    "options = webdriver.ChromeOptions()\n",
    "options.add_argument(\"--incognito\")\n",
    "options.add_argument(\"--disable-blink-features\")\n",
    "options.add_argument(\"--disable-blink-features=AutomationControlled\")\n",
    "s = Service('/Users/AZC4063/Desktop/chromedriver2/chromedriver')\n",
    "driver = webdriver.Chrome(options=options, service=s)"
   ]
  },
  {
   "cell_type": "code",
   "execution_count": 5,
   "id": "58b32dfb",
   "metadata": {},
   "outputs": [
    {
     "name": "stdout",
     "output_type": "stream",
     "text": [
      "The reference month is: 4 and the current month is: 4\n",
      "The recent season is: 2023 and the current season is: 2023\n",
      "71 games found.\n",
      "checking to see if this game already exists.\n",
      "This entry already exists.\n",
      "checking to see if this game already exists.\n",
      "This entry already exists.\n",
      "checking to see if this game already exists.\n",
      "This entry already exists.\n",
      "checking to see if this game already exists.\n",
      "This entry already exists.\n",
      "checking to see if this game already exists.\n",
      "This entry already exists.\n",
      "checking to see if this game already exists.\n",
      "This entry already exists.\n",
      "checking to see if this game already exists.\n",
      "This entry already exists.\n",
      "checking to see if this game already exists.\n",
      "This entry already exists.\n",
      "checking to see if this game already exists.\n",
      "This entry already exists.\n",
      "checking to see if this game already exists.\n",
      "This entry already exists.\n",
      "checking to see if this game already exists.\n",
      "This entry already exists.\n",
      "checking to see if this game already exists.\n",
      "This entry already exists.\n",
      "checking to see if this game already exists.\n",
      "This entry already exists.\n",
      "checking to see if this game already exists.\n",
      "This entry already exists.\n",
      "checking to see if this game already exists.\n",
      "This entry already exists.\n",
      "checking to see if this game already exists.\n",
      "This entry already exists.\n",
      "checking to see if this game already exists.\n",
      "This entry already exists.\n",
      "checking to see if this game already exists.\n",
      "This entry already exists.\n",
      "checking to see if this game already exists.\n",
      "This entry already exists.\n",
      "checking to see if this game already exists.\n",
      "This entry already exists.\n",
      "checking to see if this game already exists.\n",
      "This entry already exists.\n",
      "checking to see if this game already exists.\n",
      "This entry already exists.\n",
      "checking to see if this game already exists.\n",
      "This entry already exists.\n",
      "checking to see if this game already exists.\n",
      "This entry already exists.\n",
      "checking to see if this game already exists.\n",
      "This entry already exists.\n",
      "checking to see if this game already exists.\n",
      "This entry already exists.\n",
      "checking to see if this game already exists.\n",
      "This entry already exists.\n",
      "checking to see if this game already exists.\n",
      "This entry already exists.\n",
      "checking to see if this game already exists.\n",
      "This entry already exists.\n",
      "checking to see if this game already exists.\n",
      "This entry already exists.\n",
      "checking to see if this game already exists.\n",
      "This entry already exists.\n",
      "checking to see if this game already exists.\n",
      "This entry already exists.\n",
      "checking to see if this game already exists.\n",
      "This entry already exists.\n",
      "checking to see if this game already exists.\n",
      "This entry already exists.\n",
      "checking to see if this game already exists.\n",
      "This entry already exists.\n",
      "checking to see if this game already exists.\n",
      "This entry already exists.\n",
      "checking to see if this game already exists.\n",
      "A new entry can be added.\n",
      "checking to see if this game already exists.\n",
      "A new entry can be added.\n",
      "checking to see if this game already exists.\n",
      "A new entry can be added.\n",
      "checking to see if this game already exists.\n",
      "A new entry can be added.\n",
      "checking to see if this game already exists.\n",
      "A new entry can be added.\n",
      "Bad line, or: \n",
      "Bad line, or: \n",
      "Bad line, or: \n",
      "Bad line, or: \n",
      "Bad line, or: \n",
      "Bad line, or: \n",
      "Bad line, or: \n",
      "Bad line, or: \n",
      "Bad line, or: \n",
      "Bad line, or: \n",
      "Bad line, or: \n",
      "Bad line, or: \n",
      "Bad line, or: \n",
      "Bad line, or: \n",
      "Bad line, or: \n",
      "Bad line, or: \n",
      "Bad line, or: \n",
      "Bad line, or: \n",
      "Bad line, or: \n",
      "Bad line, or: \n",
      "Bad line, or: \n",
      "Bad line, or: \n",
      "Bad line, or: \n",
      "Bad line, or: \n",
      "Bad line, or: \n",
      "Bad line, or: \n",
      "Bad line, or: \n",
      "Bad line, or: \n",
      "Bad line, or: \n",
      "Bad line, or: \n"
     ]
    }
   ],
   "source": [
    "# This block is adding the first few datapoints to schedule/games.\n",
    "\n",
    "months = ['january', 'february', 'march', 'april', 'may', 'june', 'july', 'august', 'september', 'october', 'november', 'december']\n",
    "reference_month = most_recent_month\n",
    "reference_day = most_recent_day\n",
    "\n",
    "while recent_season < current_season or (recent_season == current_season and reference_month <= current_month):    \n",
    "    print(\"The reference month is: \" + str(reference_month) + \" and the current month is: \" + str(current_month))\n",
    "    print(\"The recent season is: \" + str(recent_season) + \" and the current season is: \" + str(current_season))\n",
    "    month = months[reference_month-1]\n",
    "    try:\n",
    "        reference_url = \"https://www.sports-website.com/leagues/NBA_\" + str(recent_season) + \"_games-\" + month + \".html\"\n",
    "        driver.get(reference_url)\n",
    "        time.sleep(4)\n",
    "        table = driver.find_element(By.ID, \"schedule\").find_element(By.TAG_NAME, \"tbody\")\n",
    "        games = table.find_elements(By.TAG_NAME, \"tr\")\n",
    "        print(str(len(games)) + \" games found.\")\n",
    "        for game in games:\n",
    "            try:\n",
    "                date = game.find_element(By.TAG_NAME, \"th\").text\n",
    "                visitor_name = game.find_elements(By.TAG_NAME, \"td\")[1].text\n",
    "                visitor_points = game.find_elements(By.TAG_NAME, \"td\")[2].text\n",
    "                home_name = game.find_elements(By.TAG_NAME, \"td\")[3].text\n",
    "                home_points = game.find_elements(By.TAG_NAME, \"td\")[4].text\n",
    "                link = game.find_elements(By.TAG_NAME, \"td\")[5].find_element(By.TAG_NAME, \"a\").get_attribute('href')\n",
    "                new_line = [(date), (visitor_name), (visitor_points), (home_name), (home_points), (link)]\n",
    "                \n",
    "                # This is testing to see if the entry already exists. \n",
    "                print(\"checking to see if this game already exists.\")\n",
    "                link_test = [link]\n",
    "                schedule_cursor.execute(\"SELECT link FROM games WHERE link = (?)\", link_test)\n",
    "                link_test = schedule_cursor.fetchall()\n",
    "                \n",
    "                if len(link_test) == 0:\n",
    "                    print(\"A new entry can be added.\")\n",
    "                    schedule_cursor.execute(\"\"\"INSERT INTO games (date, visitor_name, visitor_points, home_name, home_points, link)\n",
    "                                            VALUES (?,?,?,?,?,?)\"\"\", new_line)\n",
    "                    schedule_connection.commit()\n",
    "                else:\n",
    "                    print(\"This entry already exists.\")\n",
    "            except Exception as e:\n",
    "                print(\"Bad line, or: \")\n",
    "    \n",
    "    except Exception as e:\n",
    "        print(\"No games this month or: \")\n",
    "\n",
    "    if reference_month == 8:\n",
    "        recent_season += 1\n",
    "        reference_month += 1\n",
    "    elif reference_month == 12:\n",
    "        reference_month = 1            \n",
    "    else:\n",
    "        reference_month += 1             \n",
    "    \n",
    "\n",
    "    "
   ]
  },
  {
   "cell_type": "code",
   "execution_count": 7,
   "id": "05debe13",
   "metadata": {},
   "outputs": [
    {
     "name": "stdout",
     "output_type": "stream",
     "text": [
      "Doc Rivers\n",
      "Doc Rivers\n",
      "Jamahl Mosley\n",
      "Jamahl Mosley\n",
      "Home coaches complete.\n",
      "Michael Malone\n",
      "Michael Malone\n",
      "Mark Daigneault\n",
      "Mark Daigneault\n",
      "Chauncey Billups\n",
      "Chauncey Billups\n",
      "Erik Spoelstra\n",
      "Erik Spoelstra\n",
      "J.B. Bickerstaff\n",
      "J.B. Bickerstaff\n",
      "Away coaches complete.\n"
     ]
    }
   ],
   "source": [
    "# Mostly this will update the coach info where missning. \n",
    "\n",
    "coach_test = 0\n",
    "while coach_test ==0:\n",
    "    # This is finding the last entry in the database with an empty value for home_coach.\n",
    "    schedule_cursor.execute(\"SELECT rowid, * FROM games WHERE home_coach IS NULL ORDER BY rowid DESC LIMIT 1\")\n",
    "    new_game = schedule_cursor.fetchall()\n",
    "    if len(new_game) == 0:\n",
    "        print(\"Home coaches complete.\")\n",
    "        coach_test = 1\n",
    "    else:\n",
    "        # This looks up the team name in the dictionary.\n",
    "        team_name = [new_game[0][4]]\n",
    "        player_cursor.execute(\"SELECT code FROM dictionary WHERE team_name = (?)\", team_name)\n",
    "        team_code = player_cursor.fetchall()\n",
    "        team_url = \"https://www.sports-website.com/teams/\" + team_code[0][0] + \"/\" + str(current_season) + \".html\"\n",
    "        driver.get(team_url)\n",
    "        time.sleep(4)\n",
    "        coach_name = driver.find_element(By.XPATH, \"//strong[text()='Coach:']/following-sibling::a\").text\n",
    "        print(coach_name)\n",
    "\n",
    "        # This finds the last game entry we have for this team:\n",
    "        schedule_cursor.execute(\"\"\"SELECT rowid, home_coach FROM games WHERE home_name = (?) AND home_coach IS NOT NULL\n",
    "                                ORDER BY rowid DESC LIMIT 1\"\"\", team_name)\n",
    "        last_recorded_game = schedule_cursor.fetchall()\n",
    "        last_recorded_coach = last_recorded_game[0][1]\n",
    "        print(last_recorded_coach)\n",
    "\n",
    "        if last_recorded_coach == coach_name:\n",
    "            schedule_cursor.execute(\"SELECT rowid FROM games WHERE home_name = (?) AND home_coach IS NULL\", team_name)\n",
    "            blank_games = schedule_cursor.fetchall()\n",
    "            for game in blank_games:\n",
    "                data_input = [coach_name, game[0]]\n",
    "                schedule_cursor.execute(\"UPDATE games SET home_coach = (?) WHERE rowid = (?)\", data_input)  \n",
    "\n",
    "            schedule_connection.commit()\n",
    "\n",
    "        else:\n",
    "            print(\"WARNING - THE COACH HAS CHANGED\")\n",
    "            print(\"Team name: \" + str(team_name))\n",
    "            print(\"Old coach: \" + str(last_recorded_coach))\n",
    "            print(\"New coach: \" + str(coach_name))\n",
    "            input(\"Press enter to continue.\")\n",
    "\n",
    "# We then repeat the code for the away team.\n",
    "coach_test = 0\n",
    "while coach_test ==0:\n",
    "    # This is finding the last entry in the database with an empty value for visitor_coach.\n",
    "    schedule_cursor.execute(\"SELECT rowid, * FROM games WHERE visitor_coach IS NULL ORDER BY rowid DESC LIMIT 1\")\n",
    "    new_game = schedule_cursor.fetchall()\n",
    "    if len(new_game) == 0:\n",
    "        print(\"Away coaches complete.\")\n",
    "        coach_test = 1\n",
    "    else:\n",
    "        # This looks up the team name in the dictionary.\n",
    "        team_name = [new_game[0][2]]\n",
    "        player_cursor.execute(\"SELECT code FROM dictionary WHERE team_name = (?)\", team_name)\n",
    "        team_code = player_cursor.fetchall()\n",
    "        team_url = \"https://www.sports-website.com/teams/\" + team_code[0][0] + \"/\" + str(current_season) + \".html\"\n",
    "        driver.get(team_url)\n",
    "        time.sleep(4)\n",
    "        coach_name = driver.find_element(By.XPATH, \"//strong[text()='Coach:']/following-sibling::a\").text\n",
    "        print(coach_name)\n",
    "\n",
    "        # This finds the last game entry we have for this team:\n",
    "        schedule_cursor.execute(\"\"\"SELECT rowid, visitor_coach FROM games WHERE visitor_name = (?) AND visitor_coach IS NOT NULL\n",
    "                                ORDER BY rowid DESC LIMIT 1\"\"\", team_name)\n",
    "        last_recorded_game = schedule_cursor.fetchall()\n",
    "        last_recorded_coach = last_recorded_game[0][1]\n",
    "        print(last_recorded_coach)\n",
    "\n",
    "        if last_recorded_coach == coach_name:\n",
    "            schedule_cursor.execute(\"SELECT rowid FROM games WHERE visitor_name = (?) AND visitor_coach IS NULL\", team_name)\n",
    "            blank_games = schedule_cursor.fetchall()\n",
    "            for game in blank_games:\n",
    "                data_input = [coach_name, game[0]]\n",
    "                schedule_cursor.execute(\"UPDATE games SET visitor_coach = (?) WHERE rowid = (?)\", data_input)  \n",
    "\n",
    "            schedule_connection.commit()\n",
    "\n",
    "        else:\n",
    "            print(\"WARNING - THE COACH HAS CHANGED\")\n",
    "            print(\"Team name: \" + str(team_name))\n",
    "            print(\"Old coach: \" + str(last_recorded_coach))\n",
    "            print(\"New coach: \" + str(coach_name))\n",
    "            input(\"Press enter to continue.\")\n"
   ]
  },
  {
   "cell_type": "code",
   "execution_count": 8,
   "id": "9b82a595",
   "metadata": {},
   "outputs": [],
   "source": [
    "# Next we're just adding the date info.\n",
    "schedule_cursor.execute(\"SELECT rowid, date FROM games WHERE day IS NULL\")\n",
    "new_dates = schedule_cursor.fetchall()\n",
    "months_list = ['Jan', 'Feb', 'Mar', 'Apr', 'May', 'Jun', 'Jul', 'Aug', 'Sep', 'Oct', 'Nov', 'Dec']\n",
    "for date in new_dates:\n",
    "    chunks = date[1].split(\", \")\n",
    "    day = chunks[1].split(\" \")[1]\n",
    "    month = months_list.index(chunks[1].split(\" \")[0])+1\n",
    "    year = chunks[2]\n",
    "    data_input = [day, month, year, date[0]]\n",
    "    schedule_cursor.execute(\"UPDATE games SET (day, month, year) = (?, ?, ?) WHERE rowid = (?)\", data_input)    \n",
    "    schedule_connection.commit()\n",
    "    "
   ]
  },
  {
   "cell_type": "code",
   "execution_count": 9,
   "id": "126a2130",
   "metadata": {},
   "outputs": [
    {
     "name": "stdout",
     "output_type": "stream",
     "text": [
      "Completed row id: 17544\n",
      "Completed row id: 17545\n",
      "Completed row id: 17546\n",
      "Completed row id: 17547\n",
      "Completed row id: 17548\n"
     ]
    }
   ],
   "source": [
    "# This is updating the player names by checking the scorebox link.\n",
    "schedule_cursor.execute(\"SELECT rowid, * FROM games WHERE visitor_player_1 IS NULL\")\n",
    "games = schedule_cursor.fetchall()\n",
    "\n",
    "for game in games:\n",
    "    driver.get(game[6])\n",
    "    time.sleep(4)\n",
    "\n",
    "    visitor_tag = visitor_box = driver.find_element(By.ID, \"four_factors\").find_elements(By.TAG_NAME, \"a\")[0].text\n",
    "    home_tag = visitor_box = driver.find_element(By.ID, \"four_factors\").find_elements(By.TAG_NAME, \"a\")[1].text\n",
    "\n",
    "    visitor_box = driver.find_element(By.ID, \"box-\"+visitor_tag+\"-game-basic\")\n",
    "    home_box = driver.find_element(By.ID, \"box-\"+home_tag+\"-game-basic\")\n",
    "\n",
    "    visitor_rows = visitor_box.find_elements(By.TAG_NAME, 'a')\n",
    "    home_rows = home_box.find_elements(By.TAG_NAME, 'a')\n",
    "\n",
    "    visitor_name_list = []\n",
    "    home_name_list = []\n",
    "    i = 1\n",
    "    while i < 16:\n",
    "        try:\n",
    "            visitor_name = visitor_rows[i-1].get_attribute('href').split('.com')[1]\n",
    "            visitor_name_list.append(visitor_name)\n",
    "        except:\n",
    "            visitor_name_list.append('')\n",
    "        try:\n",
    "            home_name = home_rows[i-1].get_attribute('href').split('.com')[1]\n",
    "            home_name_list.append(home_name)\n",
    "        except:\n",
    "            home_name_list.append('')\n",
    "        i += 1\n",
    "\n",
    "    visitor_name_list.append(game[0])\n",
    "    home_name_list.append(game[0])\n",
    "\n",
    "    schedule_cursor.execute(\"\"\"\n",
    "        UPDATE games SET (\n",
    "            home_player_1,\n",
    "            home_player_2,\n",
    "            home_player_3,\n",
    "            home_player_4,\n",
    "            home_player_5,\n",
    "            home_player_6,\n",
    "            home_player_7,\n",
    "            home_player_8,\n",
    "            home_player_9,\n",
    "            home_player_10,\n",
    "            home_player_11,\n",
    "            home_player_12,\n",
    "            home_player_13,\n",
    "            home_player_14,\n",
    "            home_player_15\n",
    "        )= (?,?,?,?,?,?,?,?,?,?,?,?,?,?,?)\n",
    "        WHERE rowid = (?)\n",
    "        \"\"\", home_name_list)\n",
    "\n",
    "    schedule_cursor.execute(\"\"\"\n",
    "        UPDATE games SET (\n",
    "            visitor_player_1,\n",
    "            visitor_player_2,\n",
    "            visitor_player_3,\n",
    "            visitor_player_4,\n",
    "            visitor_player_5,\n",
    "            visitor_player_6,\n",
    "            visitor_player_7,\n",
    "            visitor_player_8,\n",
    "            visitor_player_9,\n",
    "            visitor_player_10,\n",
    "            visitor_player_11,\n",
    "            visitor_player_12,\n",
    "            visitor_player_13,\n",
    "            visitor_player_14,\n",
    "            visitor_player_15\n",
    "        )= (?,?,?,?,?,?,?,?,?,?,?,?,?,?,?)\n",
    "        WHERE rowid = (?)\n",
    "        \"\"\", visitor_name_list)\n",
    "    print(\"Completed row id: \" + str(game[0]))\n",
    "    schedule_connection.commit()"
   ]
  },
  {
   "cell_type": "code",
   "execution_count": 10,
   "id": "42c9dc9f",
   "metadata": {},
   "outputs": [],
   "source": [
    "# This function will get a particular player's stats for a particular game, and add it to the players DB.\n",
    "def game_scanner(game_list, player_name, playoff_reg): \n",
    "    player_cursor.execute(\"SELECT date FROM players WHERE name = (?)\", [player_name])\n",
    "    existing_dates = []\n",
    "    date_list = player_cursor.fetchall()\n",
    "    for date in date_list:\n",
    "        existing_dates.append(date[0])\n",
    "    \n",
    "    metas = driver.find_element(By.ID, \"meta\").find_elements(By.TAG_NAME, \"p\")\n",
    "    player_position = \"no position found\"\n",
    "    for meta in metas:\n",
    "        try:\n",
    "            position_line = meta.text.split(': ')[0]\n",
    "            if position_line == \"Position\":\n",
    "                player_position = meta.text.split(': ')[1].split(' ▪ ')[0]\n",
    "                print(\"Player position found: \" + player_position)\n",
    "        except:\n",
    "            print(\"Still looking.\")\n",
    "    for game in game_list:\n",
    "        stats = game.find_elements(By.TAG_NAME, \"td\")\n",
    "        if len(stats) == 0 or stats[2].text == \"Age\":\n",
    "            print(\"Still working\")\n",
    "        else:\n",
    "            player_date = stats[1].text\n",
    "            # This only scrapes a new line if it's actually new.\n",
    "            if player_date not in existing_dates:            \n",
    "                player_age = stats[2].text\n",
    "                player_team = stats[3].text\n",
    "                if stats[4].text == '@':\n",
    "                    player_home_away = 'away'\n",
    "                else:\n",
    "                    player_home_away = 'home'\n",
    "                player_playoff_reg = playoff_reg\n",
    "                if len(stats) == 8:\n",
    "                    player_status = stats[7].text\n",
    "                    player_minutes = 0\n",
    "                    player_FG = 0\n",
    "                    player_FGA = 0\n",
    "                    player_threeP = 0\n",
    "                    player_threePA = 0\n",
    "                    player_FT = 0\n",
    "                    player_FTA = 0\n",
    "                    player_ORB = 0\n",
    "                    player_DRB = 0\n",
    "                    player_AST = 0\n",
    "                    player_STL = 0\n",
    "                    player_BLK = 0\n",
    "                    player_TOV = 0\n",
    "                    player_PF = 0\n",
    "                    player_plus_minus = 0\n",
    "                else:\n",
    "                    player_status = 'active'\n",
    "                    player_minutes = stats[8].text\n",
    "                    player_FG = stats[9].text\n",
    "                    player_FGA = stats[10].text\n",
    "                    player_threeP = stats[12].text\n",
    "                    player_threePA = stats[13].text\n",
    "                    player_FT = stats[15].text\n",
    "                    player_FTA = stats[16].text\n",
    "                    player_ORB = stats[18].text\n",
    "                    player_DRB = stats[19].text\n",
    "                    player_AST = stats[21].text\n",
    "                    player_STL = stats[22].text\n",
    "                    player_BLK = stats[23].text\n",
    "                    player_TOV = stats[24].text\n",
    "                    player_PF = stats[25].text\n",
    "                    try:\n",
    "                        player_plus_minus = int(stats[28].text)\n",
    "                    except:\n",
    "                        player_plus_minus = 0\n",
    "            \n",
    "                print(\"Adding new line to DB for: \" + player_date)\n",
    "                db_entry = [player_name,player_position,player_age,player_date,player_team, \n",
    "                            player_home_away, player_playoff_reg, player_status,player_minutes,\n",
    "                            player_FG,player_FGA,player_threeP,player_threePA,player_FT,\n",
    "                            player_FTA,player_ORB,player_DRB,player_AST,player_STL,player_BLK,\n",
    "                            player_TOV,player_PF,player_plus_minus]\n",
    "                player_cursor.execute(\"\"\"INSERT INTO players(      \n",
    "                                      name, position, age, date, team, home_away, playoff_reg,\n",
    "                                      status, minutes, FG, FGA, threeP, threePA, FT, FTA, ORB,\n",
    "                                      DRB, AST, STL, BLK, TOV, PF, plus_minus) VALUES (?, ?, \n",
    "                                      ?, ?, ?, ?, ?, ?, ?, ?, ?, ?, ?, ?, ?, ?, ?, ?, ?, ?, ?, \n",
    "                                      ?, ?)\"\"\", db_entry)\n",
    "    player_connection.commit()\n"
   ]
  },
  {
   "cell_type": "code",
   "execution_count": 11,
   "id": "298d9aa3",
   "metadata": {},
   "outputs": [],
   "source": [
    "# This is the rowid collected from the db query above. It tells us the first new game entered into the db today.\n",
    "start_entry = [int(games[0][0])]\n",
    "\n",
    "# This is creating a list of unique player names that have been added in the most recent batch. \n",
    "schedule_cursor.execute(\"SELECT rowid, * FROM games WHERE rowid >= (?)\", start_entry)\n",
    "all_players = schedule_cursor.fetchall()\n",
    "combined_player_list = []\n",
    "for entry in all_players:\n",
    "    for i in range(30):\n",
    "        if entry[i+12] not in combined_player_list and len(entry[i+12]) > 5:\n",
    "            combined_player_list.append(entry[i+12])"
   ]
  },
  {
   "cell_type": "code",
   "execution_count": 12,
   "id": "bb8a735a",
   "metadata": {},
   "outputs": [
    {
     "name": "stderr",
     "output_type": "stream",
     "text": [
      "\r",
      "  0%|                                                                                                                                            | 0/124 [00:00<?, ?it/s]"
     ]
    },
    {
     "name": "stdout",
     "output_type": "stream",
     "text": [
      "Player position found: Power Forward\n",
      "Still working\n",
      "Still working\n",
      "Still working\n",
      "Still working\n",
      "Still working\n",
      "Adding new line to DB for: 2023-04-06\n"
     ]
    },
    {
     "name": "stderr",
     "output_type": "stream",
     "text": [
      "\r",
      "  1%|█                                                                                                                                 | 1/124 [00:50<1:42:38, 50.07s/it]"
     ]
    },
    {
     "name": "stdout",
     "output_type": "stream",
     "text": [
      "No playoff games.\n",
      "Player position found: Power Forward\n",
      "Still working\n",
      "Still working\n",
      "Still working\n",
      "Still working\n",
      "Still working\n"
     ]
    },
    {
     "name": "stderr",
     "output_type": "stream",
     "text": [
      "\r",
      "  2%|██                                                                                                                                | 2/124 [01:57<2:02:21, 60.17s/it]"
     ]
    },
    {
     "name": "stdout",
     "output_type": "stream",
     "text": [
      "Adding new line to DB for: 2023-04-06\n",
      "No playoff games.\n",
      "Player position found: Small Forward\n",
      "Still working\n",
      "Still working\n",
      "Still working\n",
      "Still working\n",
      "Still working\n"
     ]
    },
    {
     "name": "stderr",
     "output_type": "stream",
     "text": [
      "\r",
      "  2%|███▏                                                                                                                              | 3/124 [02:08<1:15:47, 37.58s/it]"
     ]
    },
    {
     "name": "stdout",
     "output_type": "stream",
     "text": [
      "Adding new line to DB for: 2023-04-06\n",
      "No playoff games.\n",
      "Player position found: Point Guard\n",
      "Still working\n",
      "Still working\n",
      "Still working\n",
      "Still working\n",
      "Still working\n"
     ]
    },
    {
     "name": "stderr",
     "output_type": "stream",
     "text": [
      "\r",
      "  3%|████▏                                                                                                                             | 4/124 [02:37<1:08:45, 34.38s/it]"
     ]
    },
    {
     "name": "stdout",
     "output_type": "stream",
     "text": [
      "Adding new line to DB for: 2023-04-06\n",
      "No playoff games.\n",
      "Player position found: Center\n",
      "Still working\n",
      "Still working\n",
      "Still working\n",
      "Still working\n",
      "Still working\n"
     ]
    },
    {
     "name": "stderr",
     "output_type": "stream",
     "text": [
      "\r",
      "  4%|█████▎                                                                                                                              | 5/124 [02:46<50:13, 25.32s/it]"
     ]
    },
    {
     "name": "stdout",
     "output_type": "stream",
     "text": [
      "Adding new line to DB for: 2023-04-06\n",
      "No playoff games.\n",
      "Player position found: Power Forward\n",
      "Still working\n",
      "Still working\n",
      "Still working\n",
      "Still working\n",
      "Still working\n"
     ]
    },
    {
     "name": "stderr",
     "output_type": "stream",
     "text": [
      "\r",
      "  5%|██████▍                                                                                                                             | 6/124 [02:56<39:10, 19.92s/it]"
     ]
    },
    {
     "name": "stdout",
     "output_type": "stream",
     "text": [
      "Adding new line to DB for: 2023-04-06\n",
      "No playoff games.\n",
      "Player position found: Shooting Guard and Small Forward\n",
      "Still working\n",
      "Still working\n",
      "Still working\n",
      "Still working\n"
     ]
    },
    {
     "name": "stderr",
     "output_type": "stream",
     "text": [
      "\r",
      "  6%|███████▍                                                                                                                            | 7/124 [03:11<36:05, 18.51s/it]"
     ]
    },
    {
     "name": "stdout",
     "output_type": "stream",
     "text": [
      "Adding new line to DB for: 2023-04-06\n",
      "No playoff games.\n",
      "Player position found: Point Guard\n",
      "Still working\n",
      "Still working\n",
      "Still working\n",
      "Still working\n",
      "Still working\n"
     ]
    },
    {
     "name": "stderr",
     "output_type": "stream",
     "text": [
      "\r",
      "  6%|████████▌                                                                                                                           | 8/124 [03:26<33:22, 17.27s/it]"
     ]
    },
    {
     "name": "stdout",
     "output_type": "stream",
     "text": [
      "Adding new line to DB for: 2023-04-06\n",
      "No playoff games.\n",
      "Player position found: Power Forward\n",
      "Still working\n",
      "Still working\n",
      "Still working\n",
      "Still working\n",
      "Still working\n"
     ]
    },
    {
     "name": "stderr",
     "output_type": "stream",
     "text": [
      "\r",
      "  7%|█████████▌                                                                                                                          | 9/124 [03:36<28:52, 15.06s/it]"
     ]
    },
    {
     "name": "stdout",
     "output_type": "stream",
     "text": [
      "Adding new line to DB for: 2023-04-06\n",
      "No playoff games.\n",
      "Player position found: Shooting Guard\n",
      "Still working\n"
     ]
    },
    {
     "name": "stderr",
     "output_type": "stream",
     "text": [
      "\r",
      "  8%|██████████▍                                                                                                                      | 10/124 [05:08<1:13:42, 38.79s/it]"
     ]
    },
    {
     "name": "stdout",
     "output_type": "stream",
     "text": [
      "Adding new line to DB for: 2023-04-06\n",
      "No playoff games.\n",
      "Player position found: Shooting Guard and Small Forward\n",
      "Still working\n",
      "Still working\n",
      "Still working\n",
      "Still working\n",
      "Still working\n",
      "Adding new line to DB for: 2023-04-06\n"
     ]
    },
    {
     "name": "stderr",
     "output_type": "stream",
     "text": [
      "\r",
      "  9%|███████████▍                                                                                                                     | 11/124 [06:19<1:31:31, 48.60s/it]"
     ]
    },
    {
     "name": "stdout",
     "output_type": "stream",
     "text": [
      "No playoff games.\n",
      "Player position found: Power Forward and Small Forward\n",
      "Still working\n",
      "Still working\n",
      "Still working\n",
      "Still working\n"
     ]
    },
    {
     "name": "stderr",
     "output_type": "stream",
     "text": [
      "\r",
      " 10%|████████████▍                                                                                                                    | 12/124 [06:50<1:20:38, 43.20s/it]"
     ]
    },
    {
     "name": "stdout",
     "output_type": "stream",
     "text": [
      "Adding new line to DB for: 2023-04-06\n",
      "No playoff games.\n",
      "Player position found: Small Forward\n",
      "Still working\n",
      "Still working\n",
      "Still working\n",
      "Still working\n"
     ]
    },
    {
     "name": "stderr",
     "output_type": "stream",
     "text": [
      "\r",
      " 10%|█████████████▌                                                                                                                   | 13/124 [06:58<1:00:33, 32.73s/it]"
     ]
    },
    {
     "name": "stdout",
     "output_type": "stream",
     "text": [
      "Adding new line to DB for: 2023-04-06\n",
      "No playoff games.\n",
      "Player position found: Power Forward\n",
      "Still working\n",
      "Still working\n",
      "Still working\n",
      "Still working\n"
     ]
    },
    {
     "name": "stderr",
     "output_type": "stream",
     "text": [
      "\r",
      " 11%|██████████████▊                                                                                                                    | 14/124 [07:07<46:46, 25.51s/it]"
     ]
    },
    {
     "name": "stdout",
     "output_type": "stream",
     "text": [
      "Adding new line to DB for: 2023-04-06\n",
      "No playoff games.\n",
      "Player position found: Point Guard\n",
      "Still working\n",
      "Still working\n",
      "Still working\n",
      "Still working\n"
     ]
    },
    {
     "name": "stderr",
     "output_type": "stream",
     "text": [
      "\r",
      " 12%|███████████████▊                                                                                                                   | 15/124 [07:35<47:29, 26.14s/it]"
     ]
    },
    {
     "name": "stdout",
     "output_type": "stream",
     "text": [
      "Adding new line to DB for: 2023-04-06\n",
      "No playoff games.\n",
      "Player position found: Center\n",
      "Still working\n",
      "Still working\n",
      "Still working\n",
      "Still working\n"
     ]
    },
    {
     "name": "stderr",
     "output_type": "stream",
     "text": [
      "\r",
      " 13%|████████████████▉                                                                                                                  | 16/124 [07:48<40:17, 22.38s/it]"
     ]
    },
    {
     "name": "stdout",
     "output_type": "stream",
     "text": [
      "Adding new line to DB for: 2023-04-06\n",
      "No playoff games.\n",
      "Player position found: Shooting Guard\n",
      "Still working\n"
     ]
    },
    {
     "name": "stderr",
     "output_type": "stream",
     "text": [
      "\r",
      " 14%|█████████████████▉                                                                                                                 | 17/124 [08:06<37:26, 21.00s/it]"
     ]
    },
    {
     "name": "stdout",
     "output_type": "stream",
     "text": [
      "Adding new line to DB for: 2023-04-06\n",
      "No playoff games.\n",
      "Player position found: Shooting Guard\n",
      "Still working\n",
      "Still working\n",
      "Still working\n",
      "Still working\n"
     ]
    },
    {
     "name": "stderr",
     "output_type": "stream",
     "text": [
      "\r",
      " 15%|███████████████████                                                                                                                | 18/124 [08:17<31:41, 17.94s/it]"
     ]
    },
    {
     "name": "stdout",
     "output_type": "stream",
     "text": [
      "Adding new line to DB for: 2023-04-06\n",
      "No playoff games.\n",
      "Player position found: Center\n",
      "Still working\n",
      "Still working\n",
      "Still working\n",
      "Still working\n"
     ]
    },
    {
     "name": "stderr",
     "output_type": "stream",
     "text": [
      "\r",
      " 15%|████████████████████                                                                                                               | 19/124 [08:26<26:40, 15.24s/it]"
     ]
    },
    {
     "name": "stdout",
     "output_type": "stream",
     "text": [
      "Adding new line to DB for: 2023-04-06\n",
      "No playoff games.\n",
      "Player position found: Power Forward and Small Forward\n",
      "Still working\n",
      "Still working\n",
      "Still working\n",
      "Still working\n",
      "Adding new line to DB for: 2023-04-04\n"
     ]
    },
    {
     "name": "stderr",
     "output_type": "stream",
     "text": [
      "\r",
      " 16%|█████████████████████▏                                                                                                             | 20/124 [08:34<22:52, 13.20s/it]"
     ]
    },
    {
     "name": "stdout",
     "output_type": "stream",
     "text": [
      "Adding new line to DB for: 2023-04-06\n",
      "No playoff games.\n",
      "Player position found: Point Guard and Shooting Guard\n",
      "Still working\n"
     ]
    },
    {
     "name": "stderr",
     "output_type": "stream",
     "text": [
      "\r",
      " 17%|██████████████████████▏                                                                                                            | 21/124 [08:40<18:35, 10.83s/it]"
     ]
    },
    {
     "name": "stdout",
     "output_type": "stream",
     "text": [
      "Adding new line to DB for: 2023-04-06\n",
      "No playoff games.\n",
      "Player position found: Point Guard\n",
      "Still working\n",
      "Still working\n",
      "Still working\n",
      "Still working\n"
     ]
    },
    {
     "name": "stderr",
     "output_type": "stream",
     "text": [
      "\r",
      " 18%|███████████████████████▏                                                                                                           | 22/124 [08:49<17:35, 10.35s/it]"
     ]
    },
    {
     "name": "stdout",
     "output_type": "stream",
     "text": [
      "Adding new line to DB for: 2023-04-06\n",
      "No playoff games.\n",
      "Player position found: Shooting Guard\n",
      "Still working\n",
      "Still working\n",
      "Still working\n",
      "Still working\n"
     ]
    },
    {
     "name": "stderr",
     "output_type": "stream",
     "text": [
      "\r",
      " 19%|████████████████████████▎                                                                                                          | 23/124 [08:59<17:11, 10.22s/it]"
     ]
    },
    {
     "name": "stdout",
     "output_type": "stream",
     "text": [
      "Adding new line to DB for: 2023-04-06\n",
      "No playoff games.\n",
      "Player position found: Small Forward and Shooting Guard\n",
      "Still working\n",
      "Still working\n",
      "Still working\n",
      "Still working\n"
     ]
    },
    {
     "name": "stderr",
     "output_type": "stream",
     "text": [
      "\r",
      " 19%|█████████████████████████▎                                                                                                         | 24/124 [09:16<20:26, 12.27s/it]"
     ]
    },
    {
     "name": "stdout",
     "output_type": "stream",
     "text": [
      "Adding new line to DB for: 2023-04-06\n",
      "No playoff games.\n",
      "Player position found: Small Forward\n",
      "Still working\n",
      "Still working\n",
      "Still working\n",
      "Still working\n",
      "Adding new line to DB for: 2023-04-06\n"
     ]
    },
    {
     "name": "stderr",
     "output_type": "stream",
     "text": [
      "\r",
      " 20%|██████████████████████████▍                                                                                                        | 25/124 [09:29<20:28, 12.41s/it]"
     ]
    },
    {
     "name": "stdout",
     "output_type": "stream",
     "text": [
      "No playoff games.\n",
      "Player position found: Center and Power Forward\n",
      "Still working\n",
      "Still working\n",
      "Still working\n",
      "Still working\n"
     ]
    },
    {
     "name": "stderr",
     "output_type": "stream",
     "text": [
      "\r",
      " 21%|███████████████████████████▍                                                                                                       | 26/124 [09:39<19:20, 11.84s/it]"
     ]
    },
    {
     "name": "stdout",
     "output_type": "stream",
     "text": [
      "Adding new line to DB for: 2023-04-06\n",
      "No playoff games.\n",
      "Player position found: Point Guard\n",
      "Still working\n",
      "Still working\n",
      "Still working\n",
      "Still working\n",
      "Adding new line to DB for: 2023-04-06\n"
     ]
    },
    {
     "name": "stderr",
     "output_type": "stream",
     "text": [
      "\r",
      " 22%|████████████████████████████▌                                                                                                      | 27/124 [09:51<19:18, 11.94s/it]"
     ]
    },
    {
     "name": "stdout",
     "output_type": "stream",
     "text": [
      "No playoff games.\n",
      "Player position found: Small Forward and Power Forward\n",
      "Still working\n",
      "Still working\n",
      "Still working\n",
      "Still working\n"
     ]
    },
    {
     "name": "stderr",
     "output_type": "stream",
     "text": [
      "\r",
      " 23%|█████████████████████████████▌                                                                                                     | 28/124 [10:03<18:54, 11.82s/it]"
     ]
    },
    {
     "name": "stdout",
     "output_type": "stream",
     "text": [
      "Adding new line to DB for: 2023-04-06\n",
      "No playoff games.\n",
      "Player position found: Point Guard\n",
      "Still working\n",
      "Still working\n",
      "Still working\n",
      "Still working\n"
     ]
    },
    {
     "name": "stderr",
     "output_type": "stream",
     "text": [
      "\r",
      " 23%|██████████████████████████████▋                                                                                                    | 29/124 [10:15<18:45, 11.84s/it]"
     ]
    },
    {
     "name": "stdout",
     "output_type": "stream",
     "text": [
      "Adding new line to DB for: 2023-04-06\n",
      "No playoff games.\n",
      "Player position found: Power Forward and Center\n",
      "Still working\n",
      "Still working\n",
      "Still working\n",
      "Still working\n",
      "Still working\n"
     ]
    },
    {
     "name": "stderr",
     "output_type": "stream",
     "text": [
      "\r",
      " 24%|███████████████████████████████▋                                                                                                   | 30/124 [10:26<18:18, 11.69s/it]"
     ]
    },
    {
     "name": "stdout",
     "output_type": "stream",
     "text": [
      "Adding new line to DB for: 2023-04-06\n",
      "No playoff games.\n",
      "Player position found: Small Forward\n",
      "Still working\n",
      "Still working\n",
      "Still working\n",
      "Still working\n"
     ]
    },
    {
     "name": "stderr",
     "output_type": "stream",
     "text": [
      "\r",
      " 25%|████████████████████████████████▊                                                                                                  | 31/124 [10:37<17:39, 11.40s/it]"
     ]
    },
    {
     "name": "stdout",
     "output_type": "stream",
     "text": [
      "Adding new line to DB for: 2023-04-06\n",
      "No playoff games.\n",
      "Player position found: Small Forward and Shooting Guard\n",
      "Still working\n",
      "Still working\n",
      "Still working\n",
      "Still working\n"
     ]
    },
    {
     "name": "stderr",
     "output_type": "stream",
     "text": [
      "\r",
      " 26%|█████████████████████████████████▊                                                                                                 | 32/124 [10:47<16:57, 11.06s/it]"
     ]
    },
    {
     "name": "stdout",
     "output_type": "stream",
     "text": [
      "Adding new line to DB for: 2023-04-06\n",
      "No playoff games.\n",
      "Player position found: Center\n",
      "Still working\n",
      "Still working\n",
      "Still working\n",
      "Still working\n"
     ]
    },
    {
     "name": "stderr",
     "output_type": "stream",
     "text": [
      "\r",
      " 27%|██████████████████████████████████▊                                                                                                | 33/124 [10:57<16:16, 10.73s/it]"
     ]
    },
    {
     "name": "stdout",
     "output_type": "stream",
     "text": [
      "Adding new line to DB for: 2023-04-06\n",
      "No playoff games.\n",
      "Player position found: Small Forward\n",
      "Still working\n",
      "Still working\n",
      "Still working\n",
      "Still working\n"
     ]
    },
    {
     "name": "stderr",
     "output_type": "stream",
     "text": [
      "\r",
      " 27%|███████████████████████████████████▉                                                                                               | 34/124 [11:08<16:05, 10.73s/it]"
     ]
    },
    {
     "name": "stdout",
     "output_type": "stream",
     "text": [
      "Adding new line to DB for: 2023-04-06\n",
      "No playoff games.\n",
      "Player position found: Power Forward and Center\n",
      "Still working\n",
      "Still working\n",
      "Still working\n",
      "Still working\n",
      "Adding new line to DB for: 2023-04-06\n"
     ]
    },
    {
     "name": "stderr",
     "output_type": "stream",
     "text": [
      "\r",
      " 28%|████████████████████████████████████▉                                                                                              | 35/124 [11:20<16:37, 11.20s/it]"
     ]
    },
    {
     "name": "stdout",
     "output_type": "stream",
     "text": [
      "No playoff games.\n",
      "Player position found: Shooting Guard and Point Guard\n",
      "Still working\n",
      "Still working\n",
      "Still working\n",
      "Still working\n",
      "Adding new line to DB for: 2023-04-06\n"
     ]
    },
    {
     "name": "stderr",
     "output_type": "stream",
     "text": [
      "\r",
      " 29%|██████████████████████████████████████                                                                                             | 36/124 [11:31<16:27, 11.23s/it]"
     ]
    },
    {
     "name": "stdout",
     "output_type": "stream",
     "text": [
      "No playoff games.\n",
      "Player position found: Center\n",
      "Still working\n",
      "Still working\n",
      "Adding new line to DB for: 2023-04-06\n"
     ]
    },
    {
     "name": "stderr",
     "output_type": "stream",
     "text": [
      "\r",
      " 30%|███████████████████████████████████████                                                                                            | 37/124 [11:38<14:18,  9.87s/it]"
     ]
    },
    {
     "name": "stdout",
     "output_type": "stream",
     "text": [
      "No playoff games.\n",
      "Player position found: Center\n",
      "Still working\n",
      "Still working\n",
      "Still working\n",
      "Still working\n",
      "Adding new line to DB for: 2023-04-06\n"
     ]
    },
    {
     "name": "stderr",
     "output_type": "stream",
     "text": [
      "\r",
      " 31%|████████████████████████████████████████▏                                                                                          | 38/124 [12:35<34:19, 23.94s/it]"
     ]
    },
    {
     "name": "stdout",
     "output_type": "stream",
     "text": [
      "No playoff games.\n",
      "Player position found: Shooting Guard and Point Guard\n",
      "Still working\n",
      "Still working\n",
      "Still working\n",
      "Still working\n"
     ]
    },
    {
     "name": "stderr",
     "output_type": "stream",
     "text": [
      "\r",
      " 31%|█████████████████████████████████████████▏                                                                                         | 39/124 [12:56<32:48, 23.16s/it]"
     ]
    },
    {
     "name": "stdout",
     "output_type": "stream",
     "text": [
      "Adding new line to DB for: 2023-04-06\n",
      "No playoff games.\n",
      "Player position found: Power Forward and Small Forward\n",
      "Still working\n",
      "Still working\n",
      "Still working\n",
      "Still working\n"
     ]
    },
    {
     "name": "stderr",
     "output_type": "stream",
     "text": [
      "\r",
      " 32%|██████████████████████████████████████████▎                                                                                        | 40/124 [13:07<27:02, 19.32s/it]"
     ]
    },
    {
     "name": "stdout",
     "output_type": "stream",
     "text": [
      "Adding new line to DB for: 2023-04-06\n",
      "No playoff games.\n",
      "Player position found: Power Forward, Small Forward, and Shooting Guard\n",
      "Still working\n",
      "Still working\n",
      "Still working\n",
      "Still working\n"
     ]
    },
    {
     "name": "stderr",
     "output_type": "stream",
     "text": [
      "\r",
      " 33%|███████████████████████████████████████████▎                                                                                       | 41/124 [13:16<22:47, 16.48s/it]"
     ]
    },
    {
     "name": "stdout",
     "output_type": "stream",
     "text": [
      "Adding new line to DB for: 2023-04-06\n",
      "No playoff games.\n",
      "Player position found: Point Guard and Shooting Guard\n",
      "Still working\n",
      "Still working\n",
      "Still working\n",
      "Still working\n"
     ]
    },
    {
     "name": "stderr",
     "output_type": "stream",
     "text": [
      "\r",
      " 34%|████████████████████████████████████████████▎                                                                                      | 42/124 [13:25<19:22, 14.18s/it]"
     ]
    },
    {
     "name": "stdout",
     "output_type": "stream",
     "text": [
      "Adding new line to DB for: 2023-04-06\n",
      "No playoff games.\n",
      "Player position found: Shooting Guard\n",
      "Still working\n",
      "Still working\n",
      "Still working\n",
      "Still working\n"
     ]
    },
    {
     "name": "stderr",
     "output_type": "stream",
     "text": [
      "\r",
      " 35%|█████████████████████████████████████████████▍                                                                                     | 43/124 [13:36<17:47, 13.18s/it]"
     ]
    },
    {
     "name": "stdout",
     "output_type": "stream",
     "text": [
      "Adding new line to DB for: 2023-04-06\n",
      "No playoff games.\n",
      "Player position found: Small Forward\n",
      "Still working\n",
      "Still working\n",
      "Still working\n",
      "Still working\n",
      "Still working\n"
     ]
    },
    {
     "name": "stderr",
     "output_type": "stream",
     "text": [
      "\r",
      " 35%|██████████████████████████████████████████████▍                                                                                    | 44/124 [13:57<20:49, 15.62s/it]"
     ]
    },
    {
     "name": "stdout",
     "output_type": "stream",
     "text": [
      "Adding new line to DB for: 2023-04-06\n",
      "No playoff games.\n",
      "Player position found: Small Forward and Shooting Guard\n",
      "Still working\n",
      "Still working\n",
      "Still working\n",
      "Still working\n"
     ]
    },
    {
     "name": "stderr",
     "output_type": "stream",
     "text": [
      "\r",
      " 36%|███████████████████████████████████████████████▌                                                                                   | 45/124 [14:08<18:39, 14.17s/it]"
     ]
    },
    {
     "name": "stdout",
     "output_type": "stream",
     "text": [
      "Adding new line to DB for: 2023-04-06\n",
      "No playoff games.\n",
      "Player position found: Power Forward\n",
      "Still working\n",
      "Still working\n",
      "Still working\n",
      "Still working\n"
     ]
    },
    {
     "name": "stderr",
     "output_type": "stream",
     "text": [
      "\r",
      " 37%|████████████████████████████████████████████████▌                                                                                  | 46/124 [14:29<20:59, 16.15s/it]"
     ]
    },
    {
     "name": "stdout",
     "output_type": "stream",
     "text": [
      "Adding new line to DB for: 2023-04-06\n",
      "No playoff games.\n",
      "Player position found: Center and Power Forward\n",
      "Still working\n",
      "Still working\n",
      "Still working\n",
      "Still working\n"
     ]
    },
    {
     "name": "stderr",
     "output_type": "stream",
     "text": [
      "\r",
      " 38%|█████████████████████████████████████████████████▋                                                                                 | 47/124 [14:38<18:01, 14.04s/it]"
     ]
    },
    {
     "name": "stdout",
     "output_type": "stream",
     "text": [
      "Adding new line to DB for: 2023-04-06\n",
      "No playoff games.\n",
      "Player position found: Shooting Guard\n",
      "Still working\n",
      "Still working\n",
      "Still working\n",
      "Still working\n"
     ]
    },
    {
     "name": "stderr",
     "output_type": "stream",
     "text": [
      "\r",
      " 39%|██████████████████████████████████████████████████▋                                                                                | 48/124 [14:48<16:05, 12.71s/it]"
     ]
    },
    {
     "name": "stdout",
     "output_type": "stream",
     "text": [
      "Adding new line to DB for: 2023-04-06\n",
      "No playoff games.\n",
      "Player position found: Center and Power Forward\n",
      "Still working\n",
      "Still working\n",
      "Still working\n",
      "Still working\n"
     ]
    },
    {
     "name": "stderr",
     "output_type": "stream",
     "text": [
      "\r",
      " 40%|███████████████████████████████████████████████████▊                                                                               | 49/124 [14:59<15:15, 12.20s/it]"
     ]
    },
    {
     "name": "stdout",
     "output_type": "stream",
     "text": [
      "Adding new line to DB for: 2023-04-06\n",
      "No playoff games.\n",
      "Player position found: Center\n",
      "Still working\n",
      "Still working\n",
      "Still working\n",
      "Still working\n"
     ]
    },
    {
     "name": "stderr",
     "output_type": "stream",
     "text": [
      "\r",
      " 40%|████████████████████████████████████████████████████▊                                                                              | 50/124 [15:08<13:57, 11.31s/it]"
     ]
    },
    {
     "name": "stdout",
     "output_type": "stream",
     "text": [
      "Adding new line to DB for: 2023-04-06\n",
      "No playoff games.\n",
      "Player position found: Center\n",
      "Still working\n",
      "Still working\n",
      "Still working\n",
      "Still working\n"
     ]
    },
    {
     "name": "stderr",
     "output_type": "stream",
     "text": [
      "\r",
      " 41%|█████████████████████████████████████████████████████▉                                                                             | 51/124 [15:19<13:32, 11.13s/it]"
     ]
    },
    {
     "name": "stdout",
     "output_type": "stream",
     "text": [
      "Adding new line to DB for: 2023-04-06\n",
      "No playoff games.\n",
      "Player position found: Shooting Guard\n",
      "Still working\n"
     ]
    },
    {
     "name": "stderr",
     "output_type": "stream",
     "text": [
      "\r",
      " 42%|██████████████████████████████████████████████████████▉                                                                            | 52/124 [15:24<11:15,  9.38s/it]"
     ]
    },
    {
     "name": "stdout",
     "output_type": "stream",
     "text": [
      "Adding new line to DB for: 2023-04-06\n",
      "No playoff games.\n",
      "Player position found: Center and Power Forward\n",
      "Still working\n",
      "Still working\n",
      "Still working\n",
      "Still working\n"
     ]
    },
    {
     "name": "stderr",
     "output_type": "stream",
     "text": [
      "\r",
      " 43%|███████████████████████████████████████████████████████▉                                                                           | 53/124 [15:35<11:34,  9.79s/it]"
     ]
    },
    {
     "name": "stdout",
     "output_type": "stream",
     "text": [
      "Adding new line to DB for: 2023-04-06\n",
      "No playoff games.\n",
      "Player position found: Shooting Guard\n",
      "Still working\n"
     ]
    },
    {
     "name": "stderr",
     "output_type": "stream",
     "text": [
      "\r",
      " 44%|█████████████████████████████████████████████████████████                                                                          | 54/124 [15:40<09:43,  8.33s/it]"
     ]
    },
    {
     "name": "stdout",
     "output_type": "stream",
     "text": [
      "Adding new line to DB for: 2023-04-06\n",
      "No playoff games.\n",
      "Player position found: Power Forward and Small Forward\n",
      "Still working\n",
      "Still working\n",
      "Still working\n",
      "Still working\n"
     ]
    },
    {
     "name": "stderr",
     "output_type": "stream",
     "text": [
      "\r",
      " 44%|██████████████████████████████████████████████████████████                                                                         | 55/124 [15:50<10:24,  9.06s/it]"
     ]
    },
    {
     "name": "stdout",
     "output_type": "stream",
     "text": [
      "Adding new line to DB for: 2023-04-06\n",
      "No playoff games.\n",
      "Player position found: Small Forward\n",
      "Still working\n",
      "Adding new line to DB for: 2023-04-04\n"
     ]
    },
    {
     "name": "stderr",
     "output_type": "stream",
     "text": [
      "\r",
      " 45%|███████████████████████████████████████████████████████████▏                                                                       | 56/124 [15:55<08:48,  7.77s/it]"
     ]
    },
    {
     "name": "stdout",
     "output_type": "stream",
     "text": [
      "Adding new line to DB for: 2023-04-06\n",
      "No playoff games.\n",
      "Player position found: Small Forward\n",
      "Still working\n",
      "Still working\n",
      "Still working\n",
      "Still working\n"
     ]
    },
    {
     "name": "stderr",
     "output_type": "stream",
     "text": [
      "\r",
      " 46%|████████████████████████████████████████████████████████████▏                                                                      | 57/124 [16:05<09:27,  8.47s/it]"
     ]
    },
    {
     "name": "stdout",
     "output_type": "stream",
     "text": [
      "Adding new line to DB for: 2023-04-06\n",
      "No playoff games.\n",
      "Player position found: Shooting Guard and Point Guard\n",
      "Still working\n"
     ]
    },
    {
     "name": "stderr",
     "output_type": "stream",
     "text": [
      "\r",
      " 47%|█████████████████████████████████████████████████████████████▎                                                                     | 58/124 [16:10<07:59,  7.27s/it]"
     ]
    },
    {
     "name": "stdout",
     "output_type": "stream",
     "text": [
      "Adding new line to DB for: 2023-04-06\n",
      "No playoff games.\n",
      "Player position found: Small Forward and Power Forward\n",
      "Still working\n",
      "Still working\n",
      "Still working\n",
      "Still working\n",
      "Still working\n"
     ]
    },
    {
     "name": "stderr",
     "output_type": "stream",
     "text": [
      "\r",
      " 48%|██████████████████████████████████████████████████████████████▎                                                                    | 59/124 [16:20<08:46,  8.11s/it]"
     ]
    },
    {
     "name": "stdout",
     "output_type": "stream",
     "text": [
      "Adding new line to DB for: 2023-04-06\n",
      "No playoff games.\n",
      "Player position found: Small Forward\n",
      "Still working\n",
      "Still working\n",
      "Still working\n",
      "Still working\n",
      "Still working\n",
      "Adding new line to DB for: 2023-04-06\n"
     ]
    },
    {
     "name": "stderr",
     "output_type": "stream",
     "text": [
      "\r",
      " 48%|███████████████████████████████████████████████████████████████▍                                                                   | 60/124 [16:29<09:06,  8.55s/it]"
     ]
    },
    {
     "name": "stdout",
     "output_type": "stream",
     "text": [
      "No playoff games.\n",
      "Player position found: Shooting Guard\n",
      "Still working\n",
      "Still working\n",
      "Still working\n",
      "Still working\n"
     ]
    },
    {
     "name": "stderr",
     "output_type": "stream",
     "text": [
      "\r",
      " 49%|████████████████████████████████████████████████████████████████▍                                                                  | 61/124 [16:40<09:33,  9.10s/it]"
     ]
    },
    {
     "name": "stdout",
     "output_type": "stream",
     "text": [
      "Adding new line to DB for: 2023-04-06\n",
      "No playoff games.\n",
      "Player position found: Small Forward\n",
      "Still working\n",
      "Still working\n",
      "Still working\n",
      "Still working\n",
      "Adding new line to DB for: 2023-04-02\n",
      "Adding new line to DB for: 2023-04-04\n"
     ]
    },
    {
     "name": "stderr",
     "output_type": "stream",
     "text": [
      "\r",
      " 50%|█████████████████████████████████████████████████████████████████▌                                                                 | 62/124 [16:53<10:41, 10.34s/it]"
     ]
    },
    {
     "name": "stdout",
     "output_type": "stream",
     "text": [
      "Adding new line to DB for: 2023-04-06\n",
      "No playoff games.\n",
      "Player position found: Point Guard\n",
      "Still working\n",
      "Still working\n",
      "Still working\n",
      "Still working\n"
     ]
    },
    {
     "name": "stderr",
     "output_type": "stream",
     "text": [
      "\r",
      " 51%|██████████████████████████████████████████████████████████████████▌                                                                | 63/124 [17:03<10:26, 10.27s/it]"
     ]
    },
    {
     "name": "stdout",
     "output_type": "stream",
     "text": [
      "Adding new line to DB for: 2023-04-06\n",
      "No playoff games.\n",
      "Player position found: Center and Power Forward\n",
      "Still working\n",
      "Still working\n",
      "Still working\n",
      "Still working\n"
     ]
    },
    {
     "name": "stderr",
     "output_type": "stream",
     "text": [
      "\r",
      " 52%|███████████████████████████████████████████████████████████████████▌                                                               | 64/124 [17:15<10:45, 10.76s/it]"
     ]
    },
    {
     "name": "stdout",
     "output_type": "stream",
     "text": [
      "Adding new line to DB for: 2023-04-06\n",
      "No playoff games.\n",
      "Player position found: Small Forward and Power Forward\n",
      "Still working\n",
      "Still working\n",
      "Still working\n",
      "Still working\n"
     ]
    },
    {
     "name": "stderr",
     "output_type": "stream",
     "text": [
      "\r",
      " 52%|████████████████████████████████████████████████████████████████████▋                                                              | 65/124 [17:26<10:35, 10.76s/it]"
     ]
    },
    {
     "name": "stdout",
     "output_type": "stream",
     "text": [
      "Adding new line to DB for: 2023-04-06\n",
      "No playoff games.\n",
      "Player position found: Small Forward\n",
      "Still working\n",
      "Still working\n",
      "Still working\n",
      "Still working\n"
     ]
    },
    {
     "name": "stderr",
     "output_type": "stream",
     "text": [
      "\r",
      " 53%|█████████████████████████████████████████████████████████████████████▋                                                             | 66/124 [17:36<10:19, 10.68s/it]"
     ]
    },
    {
     "name": "stdout",
     "output_type": "stream",
     "text": [
      "Adding new line to DB for: 2023-04-06\n",
      "No playoff games.\n",
      "Player position found: Small Forward\n",
      "Still working\n",
      "Still working\n",
      "Still working\n",
      "Still working\n"
     ]
    },
    {
     "name": "stderr",
     "output_type": "stream",
     "text": [
      "\r",
      " 54%|██████████████████████████████████████████████████████████████████████▊                                                            | 67/124 [17:48<10:29, 11.04s/it]"
     ]
    },
    {
     "name": "stdout",
     "output_type": "stream",
     "text": [
      "Adding new line to DB for: 2023-04-06\n",
      "No playoff games.\n",
      "Player position found: Center and Power Forward\n",
      "Still working\n",
      "Still working\n",
      "Still working\n",
      "Still working\n"
     ]
    },
    {
     "name": "stderr",
     "output_type": "stream",
     "text": [
      "\r",
      " 55%|███████████████████████████████████████████████████████████████████████▊                                                           | 68/124 [17:58<10:01, 10.73s/it]"
     ]
    },
    {
     "name": "stdout",
     "output_type": "stream",
     "text": [
      "Adding new line to DB for: 2023-04-06\n",
      "No playoff games.\n",
      "Player position found: Shooting Guard\n",
      "Still working\n",
      "Still working\n",
      "Still working\n",
      "Still working\n"
     ]
    },
    {
     "name": "stderr",
     "output_type": "stream",
     "text": [
      "\r",
      " 56%|████████████████████████████████████████████████████████████████████████▉                                                          | 69/124 [18:08<09:43, 10.62s/it]"
     ]
    },
    {
     "name": "stdout",
     "output_type": "stream",
     "text": [
      "Adding new line to DB for: 2023-04-06\n",
      "No playoff games.\n",
      "Player position found: Shooting Guard\n",
      "Still working\n",
      "Still working\n",
      "Still working\n",
      "Still working\n"
     ]
    },
    {
     "name": "stderr",
     "output_type": "stream",
     "text": [
      "\r",
      " 56%|█████████████████████████████████████████████████████████████████████████▉                                                         | 70/124 [18:20<09:45, 10.85s/it]"
     ]
    },
    {
     "name": "stdout",
     "output_type": "stream",
     "text": [
      "Adding new line to DB for: 2023-04-06\n",
      "No playoff games.\n",
      "Player position found: Small Forward\n",
      "Still working\n",
      "Still working\n",
      "Still working\n",
      "Still working\n"
     ]
    },
    {
     "name": "stderr",
     "output_type": "stream",
     "text": [
      "\r",
      " 57%|███████████████████████████████████████████████████████████████████████████                                                        | 71/124 [18:31<09:41, 10.97s/it]"
     ]
    },
    {
     "name": "stdout",
     "output_type": "stream",
     "text": [
      "Adding new line to DB for: 2023-04-06\n",
      "No playoff games.\n",
      "Player position found: Center and Power Forward\n",
      "Still working\n",
      "Still working\n",
      "Still working\n",
      "Still working\n"
     ]
    },
    {
     "name": "stderr",
     "output_type": "stream",
     "text": [
      "\r",
      " 58%|████████████████████████████████████████████████████████████████████████████                                                       | 72/124 [18:41<09:10, 10.59s/it]"
     ]
    },
    {
     "name": "stdout",
     "output_type": "stream",
     "text": [
      "Adding new line to DB for: 2023-04-06\n",
      "No playoff games.\n",
      "Player position found: Small Forward and Shooting Guard\n",
      "Still working\n",
      "Still working\n",
      "Still working\n",
      "Still working\n",
      "Adding new line to DB for: 2023-04-02\n",
      "Adding new line to DB for: 2023-04-04\n"
     ]
    },
    {
     "name": "stderr",
     "output_type": "stream",
     "text": [
      "\r",
      " 59%|█████████████████████████████████████████████████████████████████████████████                                                      | 73/124 [18:52<09:01, 10.62s/it]"
     ]
    },
    {
     "name": "stdout",
     "output_type": "stream",
     "text": [
      "Adding new line to DB for: 2023-04-06\n",
      "No playoff games.\n",
      "Player position found: Point Guard and Shooting Guard\n",
      "Still working\n",
      "Still working\n",
      "Still working\n",
      "Still working\n",
      "Still working\n"
     ]
    },
    {
     "name": "stderr",
     "output_type": "stream",
     "text": [
      "\r",
      " 60%|██████████████████████████████████████████████████████████████████████████████▏                                                    | 74/124 [19:03<08:58, 10.78s/it]"
     ]
    },
    {
     "name": "stdout",
     "output_type": "stream",
     "text": [
      "Adding new line to DB for: 2023-04-06\n",
      "No playoff games.\n",
      "Player position found: Shooting Guard and Small Forward\n",
      "Still working\n",
      "Still working\n",
      "Still working\n",
      "Still working\n",
      "Still working\n"
     ]
    },
    {
     "name": "stderr",
     "output_type": "stream",
     "text": [
      "\r",
      " 60%|███████████████████████████████████████████████████████████████████████████████▏                                                   | 75/124 [19:13<08:46, 10.74s/it]"
     ]
    },
    {
     "name": "stdout",
     "output_type": "stream",
     "text": [
      "Adding new line to DB for: 2023-04-06\n",
      "No playoff games.\n",
      "Player position found: Shooting Guard\n",
      "Still working\n",
      "Still working\n",
      "Still working\n",
      "Still working\n",
      "Still working\n"
     ]
    },
    {
     "name": "stderr",
     "output_type": "stream",
     "text": [
      "\r",
      " 61%|████████████████████████████████████████████████████████████████████████████████▎                                                  | 76/124 [19:25<08:42, 10.89s/it]"
     ]
    },
    {
     "name": "stdout",
     "output_type": "stream",
     "text": [
      "Adding new line to DB for: 2023-04-06\n",
      "No playoff games.\n",
      "Player position found: Power Forward\n",
      "Still working\n",
      "Still working\n",
      "Still working\n",
      "Still working\n",
      "Still working\n"
     ]
    },
    {
     "name": "stderr",
     "output_type": "stream",
     "text": [
      "\r",
      " 62%|█████████████████████████████████████████████████████████████████████████████████▎                                                 | 77/124 [19:35<08:24, 10.72s/it]"
     ]
    },
    {
     "name": "stdout",
     "output_type": "stream",
     "text": [
      "Adding new line to DB for: 2023-04-06\n",
      "No playoff games.\n",
      "Player position found: Shooting Guard and Small Forward\n",
      "Still working\n",
      "Still working\n",
      "Still working\n",
      "Still working\n",
      "Still working\n"
     ]
    },
    {
     "name": "stderr",
     "output_type": "stream",
     "text": [
      "\r",
      " 63%|██████████████████████████████████████████████████████████████████████████████████▍                                                | 78/124 [19:46<08:17, 10.81s/it]"
     ]
    },
    {
     "name": "stdout",
     "output_type": "stream",
     "text": [
      "Adding new line to DB for: 2023-04-06\n",
      "No playoff games.\n",
      "Player position found: Shooting Guard\n",
      "Still working\n",
      "Still working\n",
      "Still working\n",
      "Still working\n",
      "Still working\n"
     ]
    },
    {
     "name": "stderr",
     "output_type": "stream",
     "text": [
      "\r",
      " 64%|███████████████████████████████████████████████████████████████████████████████████▍                                               | 79/124 [19:56<07:52, 10.50s/it]"
     ]
    },
    {
     "name": "stdout",
     "output_type": "stream",
     "text": [
      "Adding new line to DB for: 2023-04-06\n",
      "No playoff games.\n",
      "Player position found: Power Forward and Center\n",
      "Still working\n",
      "Still working\n",
      "Still working\n",
      "Still working\n",
      "Still working\n"
     ]
    },
    {
     "name": "stderr",
     "output_type": "stream",
     "text": [
      "\r",
      " 65%|████████████████████████████████████████████████████████████████████████████████████▌                                              | 80/124 [20:06<07:35, 10.36s/it]"
     ]
    },
    {
     "name": "stdout",
     "output_type": "stream",
     "text": [
      "Adding new line to DB for: 2023-04-06\n",
      "No playoff games.\n",
      "Player position found: Shooting Guard\n",
      "Still working\n",
      "Still working\n",
      "Still working\n",
      "Still working\n",
      "Still working\n"
     ]
    },
    {
     "name": "stderr",
     "output_type": "stream",
     "text": [
      "\r",
      " 65%|█████████████████████████████████████████████████████████████████████████████████████▌                                             | 81/124 [20:15<07:16, 10.16s/it]"
     ]
    },
    {
     "name": "stdout",
     "output_type": "stream",
     "text": [
      "Adding new line to DB for: 2023-04-06\n",
      "No playoff games.\n",
      "Player position found: Shooting Guard\n",
      "Still working\n",
      "Still working\n",
      "Still working\n",
      "Still working\n",
      "Still working\n"
     ]
    },
    {
     "name": "stderr",
     "output_type": "stream",
     "text": [
      "\r",
      " 66%|██████████████████████████████████████████████████████████████████████████████████████▋                                            | 82/124 [20:31<08:18, 11.86s/it]"
     ]
    },
    {
     "name": "stdout",
     "output_type": "stream",
     "text": [
      "Adding new line to DB for: 2023-04-06\n",
      "No playoff games.\n",
      "Player position found: Shooting Guard\n",
      "Still working\n"
     ]
    },
    {
     "name": "stderr",
     "output_type": "stream",
     "text": [
      "\r",
      " 67%|███████████████████████████████████████████████████████████████████████████████████████▋                                           | 83/124 [20:42<07:48, 11.42s/it]"
     ]
    },
    {
     "name": "stdout",
     "output_type": "stream",
     "text": [
      "Adding new line to DB for: 2023-04-06\n",
      "No playoff games.\n",
      "Player position found: Small Forward\n",
      "Still working\n",
      "Still working\n",
      "Still working\n",
      "Still working\n",
      "Still working\n"
     ]
    },
    {
     "name": "stderr",
     "output_type": "stream",
     "text": [
      "\r",
      " 68%|████████████████████████████████████████████████████████████████████████████████████████▋                                          | 84/124 [20:50<07:03, 10.59s/it]"
     ]
    },
    {
     "name": "stdout",
     "output_type": "stream",
     "text": [
      "Adding new line to DB for: 2023-04-06\n",
      "No playoff games.\n",
      "Player position found: Point Guard\n",
      "Still working\n",
      "Still working\n",
      "Still working\n",
      "Still working\n",
      "Still working\n"
     ]
    },
    {
     "name": "stderr",
     "output_type": "stream",
     "text": [
      "\r",
      " 69%|█████████████████████████████████████████████████████████████████████████████████████████▊                                         | 85/124 [21:00<06:37, 10.19s/it]"
     ]
    },
    {
     "name": "stdout",
     "output_type": "stream",
     "text": [
      "Adding new line to DB for: 2023-04-06\n",
      "No playoff games.\n",
      "Player position found: Power Forward and Center\n",
      "Still working\n",
      "Still working\n",
      "Still working\n",
      "Still working\n",
      "Still working\n"
     ]
    },
    {
     "name": "stderr",
     "output_type": "stream",
     "text": [
      "\r",
      " 69%|██████████████████████████████████████████████████████████████████████████████████████████▊                                        | 86/124 [21:09<06:22, 10.06s/it]"
     ]
    },
    {
     "name": "stdout",
     "output_type": "stream",
     "text": [
      "Adding new line to DB for: 2023-04-06\n",
      "No playoff games.\n",
      "Player position found: Center\n",
      "Still working\n",
      "Still working\n",
      "Still working\n"
     ]
    },
    {
     "name": "stderr",
     "output_type": "stream",
     "text": [
      "\r",
      " 70%|███████████████████████████████████████████████████████████████████████████████████████████▉                                       | 87/124 [21:17<05:41,  9.23s/it]"
     ]
    },
    {
     "name": "stdout",
     "output_type": "stream",
     "text": [
      "Adding new line to DB for: 2023-04-06\n",
      "No playoff games.\n",
      "Player position found: Point Guard\n",
      "Still working\n"
     ]
    },
    {
     "name": "stderr",
     "output_type": "stream",
     "text": [
      "\r",
      " 71%|████████████████████████████████████████████████████████████████████████████████████████████▉                                      | 88/124 [21:22<04:54,  8.18s/it]"
     ]
    },
    {
     "name": "stdout",
     "output_type": "stream",
     "text": [
      "Adding new line to DB for: 2023-04-06\n",
      "No playoff games.\n",
      "Player position found: Center and Power Forward\n",
      "Still working\n",
      "Still working\n",
      "Still working\n",
      "Still working\n"
     ]
    },
    {
     "name": "stderr",
     "output_type": "stream",
     "text": [
      "\r",
      " 72%|██████████████████████████████████████████████████████████████████████████████████████████████                                     | 89/124 [21:33<05:09,  8.84s/it]"
     ]
    },
    {
     "name": "stdout",
     "output_type": "stream",
     "text": [
      "Adding new line to DB for: 2023-04-06\n",
      "No playoff games.\n",
      "Player position found: Shooting Guard\n",
      "Still working\n",
      "Still working\n",
      "Still working\n",
      "Still working\n"
     ]
    },
    {
     "name": "stderr",
     "output_type": "stream",
     "text": [
      "\r",
      " 73%|███████████████████████████████████████████████████████████████████████████████████████████████                                    | 90/124 [21:43<05:13,  9.22s/it]"
     ]
    },
    {
     "name": "stdout",
     "output_type": "stream",
     "text": [
      "Adding new line to DB for: 2023-04-06\n",
      "No playoff games.\n",
      "Player position found: Power Forward\n",
      "Still working\n"
     ]
    },
    {
     "name": "stderr",
     "output_type": "stream",
     "text": [
      "\r",
      " 73%|████████████████████████████████████████████████████████████████████████████████████████████████▏                                  | 91/124 [21:47<04:16,  7.76s/it]"
     ]
    },
    {
     "name": "stdout",
     "output_type": "stream",
     "text": [
      "Adding new line to DB for: 2023-04-06\n",
      "No playoff games.\n",
      "Player position found: Center\n",
      "Still working\n",
      "Still working\n",
      "Still working\n",
      "Still working\n"
     ]
    },
    {
     "name": "stderr",
     "output_type": "stream",
     "text": [
      "\r",
      " 74%|█████████████████████████████████████████████████████████████████████████████████████████████████▏                                 | 92/124 [21:57<04:27,  8.35s/it]"
     ]
    },
    {
     "name": "stdout",
     "output_type": "stream",
     "text": [
      "Adding new line to DB for: 2023-04-06\n",
      "No playoff games.\n",
      "Player position found: Small Forward\n",
      "Still working\n",
      "Still working\n",
      "Still working\n",
      "Still working\n"
     ]
    },
    {
     "name": "stderr",
     "output_type": "stream",
     "text": [
      "\r",
      " 75%|██████████████████████████████████████████████████████████████████████████████████████████████████▎                                | 93/124 [22:06<04:28,  8.67s/it]"
     ]
    },
    {
     "name": "stdout",
     "output_type": "stream",
     "text": [
      "Adding new line to DB for: 2023-04-06\n",
      "No playoff games.\n",
      "Player position found: Center\n",
      "Still working\n",
      "Still working\n",
      "Still working\n",
      "Still working\n"
     ]
    },
    {
     "name": "stderr",
     "output_type": "stream",
     "text": [
      "\r",
      " 76%|███████████████████████████████████████████████████████████████████████████████████████████████████▎                               | 94/124 [22:17<04:36,  9.21s/it]"
     ]
    },
    {
     "name": "stdout",
     "output_type": "stream",
     "text": [
      "Adding new line to DB for: 2023-04-06\n",
      "No playoff games.\n",
      "Player position found: Small Forward and Shooting Guard\n",
      "Still working\n",
      "Still working\n",
      "Still working\n",
      "Still working\n"
     ]
    },
    {
     "name": "stderr",
     "output_type": "stream",
     "text": [
      "\r",
      " 77%|████████████████████████████████████████████████████████████████████████████████████████████████████▎                              | 95/124 [22:28<04:45,  9.84s/it]"
     ]
    },
    {
     "name": "stdout",
     "output_type": "stream",
     "text": [
      "Adding new line to DB for: 2023-04-06\n",
      "No playoff games.\n",
      "Player position found: Small Forward\n",
      "Still working\n",
      "Still working\n",
      "Still working\n",
      "Still working\n"
     ]
    },
    {
     "name": "stderr",
     "output_type": "stream",
     "text": [
      "\r",
      " 77%|█████████████████████████████████████████████████████████████████████████████████████████████████████▍                             | 96/124 [22:38<04:38,  9.96s/it]"
     ]
    },
    {
     "name": "stdout",
     "output_type": "stream",
     "text": [
      "Adding new line to DB for: 2023-04-06\n",
      "No playoff games.\n",
      "Player position found: Power Forward and Center\n",
      "Still working\n",
      "Still working\n",
      "Still working\n",
      "Still working\n"
     ]
    },
    {
     "name": "stderr",
     "output_type": "stream",
     "text": [
      "\r",
      " 78%|██████████████████████████████████████████████████████████████████████████████████████████████████████▍                            | 97/124 [22:49<04:33, 10.12s/it]"
     ]
    },
    {
     "name": "stdout",
     "output_type": "stream",
     "text": [
      "Adding new line to DB for: 2023-04-06\n",
      "No playoff games.\n",
      "Player position found: Shooting Guard and Point Guard\n",
      "Still working\n",
      "Still working\n",
      "Still working\n",
      "Still working\n"
     ]
    },
    {
     "name": "stderr",
     "output_type": "stream",
     "text": [
      "\r",
      " 79%|███████████████████████████████████████████████████████████████████████████████████████████████████████▌                           | 98/124 [23:00<04:28, 10.32s/it]"
     ]
    },
    {
     "name": "stdout",
     "output_type": "stream",
     "text": [
      "Adding new line to DB for: 2023-04-06\n",
      "No playoff games.\n",
      "Player position found: Point Guard, Shooting Guard, and Small Forward\n",
      "Still working\n",
      "Still working\n",
      "Still working\n",
      "Still working\n"
     ]
    },
    {
     "name": "stderr",
     "output_type": "stream",
     "text": [
      "\r",
      " 80%|████████████████████████████████████████████████████████████████████████████████████████████████████████▌                          | 99/124 [23:10<04:21, 10.45s/it]"
     ]
    },
    {
     "name": "stdout",
     "output_type": "stream",
     "text": [
      "Adding new line to DB for: 2023-04-06\n",
      "No playoff games.\n",
      "Player position found: Shooting Guard\n",
      "Still working\n",
      "Still working\n",
      "Still working\n",
      "Still working\n"
     ]
    },
    {
     "name": "stderr",
     "output_type": "stream",
     "text": [
      "\r",
      " 81%|████████████████████████████████████████████████████████████████████████████████████████████████████████▊                         | 100/124 [23:21<04:13, 10.55s/it]"
     ]
    },
    {
     "name": "stdout",
     "output_type": "stream",
     "text": [
      "Adding new line to DB for: 2023-04-06\n",
      "No playoff games.\n",
      "Player position found: Point Guard and Shooting Guard\n",
      "Still working\n",
      "Still working\n",
      "Still working\n",
      "Still working\n",
      "Still working\n"
     ]
    },
    {
     "name": "stderr",
     "output_type": "stream",
     "text": [
      "\r",
      " 81%|█████████████████████████████████████████████████████████████████████████████████████████████████████████▉                        | 101/124 [23:32<04:06, 10.70s/it]"
     ]
    },
    {
     "name": "stdout",
     "output_type": "stream",
     "text": [
      "Adding new line to DB for: 2023-04-06\n",
      "No playoff games.\n",
      "Player position found: Center\n",
      "Still working\n",
      "Still working\n",
      "Still working\n",
      "Still working\n"
     ]
    },
    {
     "name": "stderr",
     "output_type": "stream",
     "text": [
      "\r",
      " 82%|██████████████████████████████████████████████████████████████████████████████████████████████████████████▉                       | 102/124 [23:44<04:05, 11.15s/it]"
     ]
    },
    {
     "name": "stdout",
     "output_type": "stream",
     "text": [
      "Adding new line to DB for: 2023-04-06\n",
      "No playoff games.\n",
      "Player position found: Shooting Guard\n",
      "Still working\n",
      "Still working\n",
      "Still working\n",
      "Still working\n"
     ]
    },
    {
     "name": "stderr",
     "output_type": "stream",
     "text": [
      "\r",
      " 83%|███████████████████████████████████████████████████████████████████████████████████████████████████████████▉                      | 103/124 [23:56<03:54, 11.19s/it]"
     ]
    },
    {
     "name": "stdout",
     "output_type": "stream",
     "text": [
      "Adding new line to DB for: 2023-04-06\n",
      "No playoff games.\n",
      "Player position found: Point Guard\n",
      "Still working\n",
      "Still working\n",
      "Still working\n",
      "Still working\n"
     ]
    },
    {
     "name": "stderr",
     "output_type": "stream",
     "text": [
      "\r",
      " 84%|█████████████████████████████████████████████████████████████████████████████████████████████████████████████                     | 104/124 [24:07<03:43, 11.20s/it]"
     ]
    },
    {
     "name": "stdout",
     "output_type": "stream",
     "text": [
      "Adding new line to DB for: 2023-04-06\n",
      "No playoff games.\n",
      "Player position found: Power Forward, Small Forward, and Center\n",
      "Still working\n",
      "Still working\n",
      "Still working\n",
      "Still working\n"
     ]
    },
    {
     "name": "stderr",
     "output_type": "stream",
     "text": [
      "\r",
      " 85%|██████████████████████████████████████████████████████████████████████████████████████████████████████████████                    | 105/124 [24:18<03:30, 11.08s/it]"
     ]
    },
    {
     "name": "stdout",
     "output_type": "stream",
     "text": [
      "Adding new line to DB for: 2023-04-06\n",
      "No playoff games.\n",
      "Player position found: Power Forward\n",
      "Still working\n",
      "Still working\n",
      "Still working\n",
      "Still working\n"
     ]
    },
    {
     "name": "stderr",
     "output_type": "stream",
     "text": [
      "\r",
      " 85%|███████████████████████████████████████████████████████████████████████████████████████████████████████████████▏                  | 106/124 [24:29<03:21, 11.18s/it]"
     ]
    },
    {
     "name": "stdout",
     "output_type": "stream",
     "text": [
      "Adding new line to DB for: 2023-04-06\n",
      "No playoff games.\n",
      "Player position found: Power Forward\n",
      "Still working\n",
      "Still working\n",
      "Still working\n",
      "Still working\n",
      "Adding new line to DB for: 2023-04-02\n",
      "Adding new line to DB for: 2023-04-04\n"
     ]
    },
    {
     "name": "stderr",
     "output_type": "stream",
     "text": [
      "\r",
      " 86%|████████████████████████████████████████████████████████████████████████████████████████████████████████████████▏                 | 107/124 [24:46<03:41, 13.04s/it]"
     ]
    },
    {
     "name": "stdout",
     "output_type": "stream",
     "text": [
      "Adding new line to DB for: 2023-04-06\n",
      "No playoff games.\n",
      "Player position found: Center\n",
      "Still working\n",
      "Still working\n",
      "Still working\n",
      "Still working\n"
     ]
    },
    {
     "name": "stderr",
     "output_type": "stream",
     "text": [
      "\r",
      " 87%|█████████████████████████████████████████████████████████████████████████████████████████████████████████████████▏                | 108/124 [25:18<04:56, 18.54s/it]"
     ]
    },
    {
     "name": "stdout",
     "output_type": "stream",
     "text": [
      "Adding new line to DB for: 2023-04-06\n",
      "No playoff games.\n",
      "Player position found: Small Forward\n",
      "Still working\n",
      "Still working\n",
      "Still working\n",
      "Still working\n"
     ]
    },
    {
     "name": "stderr",
     "output_type": "stream",
     "text": [
      "\r",
      " 88%|██████████████████████████████████████████████████████████████████████████████████████████████████████████████████▎               | 109/124 [25:30<04:09, 16.66s/it]"
     ]
    },
    {
     "name": "stdout",
     "output_type": "stream",
     "text": [
      "Adding new line to DB for: 2023-04-06\n",
      "No playoff games.\n",
      "Player position found: Small Forward, Power Forward, and Shooting Guard\n",
      "Still working\n",
      "Still working\n",
      "Still working\n",
      "Still working\n"
     ]
    },
    {
     "name": "stderr",
     "output_type": "stream",
     "text": [
      "\r",
      " 89%|███████████████████████████████████████████████████████████████████████████████████████████████████████████████████▎              | 110/124 [25:39<03:21, 14.41s/it]"
     ]
    },
    {
     "name": "stdout",
     "output_type": "stream",
     "text": [
      "Adding new line to DB for: 2023-04-06\n",
      "No playoff games.\n",
      "Player position found: Shooting Guard\n",
      "Still working\n",
      "Still working\n",
      "Still working\n",
      "Still working\n"
     ]
    },
    {
     "name": "stderr",
     "output_type": "stream",
     "text": [
      "\r",
      " 90%|████████████████████████████████████████████████████████████████████████████████████████████████████████████████████▎             | 111/124 [25:49<02:48, 12.98s/it]"
     ]
    },
    {
     "name": "stdout",
     "output_type": "stream",
     "text": [
      "Adding new line to DB for: 2023-04-06\n",
      "No playoff games.\n",
      "Player position found: Point Guard\n",
      "Still working\n",
      "Still working\n",
      "Still working\n",
      "Still working\n"
     ]
    },
    {
     "name": "stderr",
     "output_type": "stream",
     "text": [
      "\r",
      " 90%|█████████████████████████████████████████████████████████████████████████████████████████████████████████████████████▍            | 112/124 [25:58<02:22, 11.91s/it]"
     ]
    },
    {
     "name": "stdout",
     "output_type": "stream",
     "text": [
      "Adding new line to DB for: 2023-04-06\n",
      "No playoff games.\n",
      "Player position found: Center\n",
      "Still working\n",
      "Still working\n",
      "Still working\n",
      "Still working\n"
     ]
    },
    {
     "name": "stderr",
     "output_type": "stream",
     "text": [
      "\r",
      " 91%|██████████████████████████████████████████████████████████████████████████████████████████████████████████████████████▍           | 113/124 [26:08<02:05, 11.37s/it]"
     ]
    },
    {
     "name": "stdout",
     "output_type": "stream",
     "text": [
      "Adding new line to DB for: 2023-04-06\n",
      "No playoff games.\n",
      "Player position found: Shooting Guard\n",
      "Still working\n",
      "Still working\n",
      "Still working\n",
      "Still working\n",
      "Adding new line to DB for: 2023-04-06\n"
     ]
    },
    {
     "name": "stderr",
     "output_type": "stream",
     "text": [
      "\r",
      " 92%|███████████████████████████████████████████████████████████████████████████████████████████████████████████████████████▌          | 114/124 [26:20<01:53, 11.39s/it]"
     ]
    },
    {
     "name": "stdout",
     "output_type": "stream",
     "text": [
      "No playoff games.\n",
      "Player position found: Small Forward\n",
      "Still working\n",
      "Still working\n",
      "Still working\n",
      "Still working\n",
      "Adding new line to DB for: 2023-04-06\n"
     ]
    },
    {
     "name": "stderr",
     "output_type": "stream",
     "text": [
      "\r",
      " 93%|████████████████████████████████████████████████████████████████████████████████████████████████████████████████████████▌         | 115/124 [26:37<01:57, 13.01s/it]"
     ]
    },
    {
     "name": "stdout",
     "output_type": "stream",
     "text": [
      "No playoff games.\n",
      "Player position found: Shooting Guard and Small Forward\n",
      "Still working\n",
      "Still working\n",
      "Still working\n",
      "Still working\n"
     ]
    },
    {
     "name": "stderr",
     "output_type": "stream",
     "text": [
      "\r",
      " 94%|█████████████████████████████████████████████████████████████████████████████████████████████████████████████████████████▌        | 116/124 [27:02<02:13, 16.68s/it]"
     ]
    },
    {
     "name": "stdout",
     "output_type": "stream",
     "text": [
      "Adding new line to DB for: 2023-04-06\n",
      "No playoff games.\n",
      "Still working\n",
      "Still working\n",
      "Still working\n",
      "Still working\n"
     ]
    },
    {
     "name": "stderr",
     "output_type": "stream",
     "text": [
      "\r",
      " 94%|██████████████████████████████████████████████████████████████████████████████████████████████████████████████████████████▋       | 117/124 [27:12<01:42, 14.69s/it]"
     ]
    },
    {
     "name": "stdout",
     "output_type": "stream",
     "text": [
      "Adding new line to DB for: 2023-04-06\n",
      "No playoff games.\n",
      "Player position found: Point Guard and Shooting Guard\n",
      "Still working\n",
      "Still working\n",
      "Still working\n",
      "Still working\n"
     ]
    },
    {
     "name": "stderr",
     "output_type": "stream",
     "text": [
      "\r",
      " 95%|███████████████████████████████████████████████████████████████████████████████████████████████████████████████████████████▋      | 118/124 [27:22<01:19, 13.24s/it]"
     ]
    },
    {
     "name": "stdout",
     "output_type": "stream",
     "text": [
      "Adding new line to DB for: 2023-04-06\n",
      "No playoff games.\n",
      "Player position found: Shooting Guard\n",
      "Still working\n",
      "Still working\n",
      "Still working\n",
      "Still working\n"
     ]
    },
    {
     "name": "stderr",
     "output_type": "stream",
     "text": [
      "\r",
      " 96%|████████████████████████████████████████████████████████████████████████████████████████████████████████████████████████████▊     | 119/124 [27:32<01:01, 12.20s/it]"
     ]
    },
    {
     "name": "stdout",
     "output_type": "stream",
     "text": [
      "Adding new line to DB for: 2023-04-06\n",
      "No playoff games.\n",
      "Player position found: Center\n",
      "Still working\n",
      "Still working\n",
      "Still working\n",
      "Still working\n"
     ]
    },
    {
     "name": "stderr",
     "output_type": "stream",
     "text": [
      "\r",
      " 97%|█████████████████████████████████████████████████████████████████████████████████████████████████████████████████████████████▊    | 120/124 [27:42<00:46, 11.57s/it]"
     ]
    },
    {
     "name": "stdout",
     "output_type": "stream",
     "text": [
      "Adding new line to DB for: 2023-04-06\n",
      "No playoff games.\n",
      "Player position found: Small Forward and Power Forward\n",
      "Still working\n",
      "Still working\n",
      "Still working\n",
      "Still working\n"
     ]
    },
    {
     "name": "stderr",
     "output_type": "stream",
     "text": [
      "\r",
      " 98%|██████████████████████████████████████████████████████████████████████████████████████████████████████████████████████████████▊   | 121/124 [27:53<00:34, 11.44s/it]"
     ]
    },
    {
     "name": "stdout",
     "output_type": "stream",
     "text": [
      "Adding new line to DB for: 2023-04-06\n",
      "No playoff games.\n",
      "Player position found: Power Forward\n",
      "Still working\n",
      "Still working\n",
      "Still working\n",
      "Still working\n"
     ]
    },
    {
     "name": "stderr",
     "output_type": "stream",
     "text": [
      "\r",
      " 98%|███████████████████████████████████████████████████████████████████████████████████████████████████████████████████████████████▉  | 122/124 [28:03<00:22, 11.15s/it]"
     ]
    },
    {
     "name": "stdout",
     "output_type": "stream",
     "text": [
      "Adding new line to DB for: 2023-04-04\n",
      "Adding new line to DB for: 2023-04-06\n",
      "No playoff games.\n",
      "Player position found: Shooting Guard\n",
      "Still working\n",
      "Still working\n",
      "Still working\n",
      "Still working\n"
     ]
    },
    {
     "name": "stderr",
     "output_type": "stream",
     "text": [
      "\r",
      " 99%|████████████████████████████████████████████████████████████████████████████████████████████████████████████████████████████████▉ | 123/124 [28:13<00:10, 10.80s/it]"
     ]
    },
    {
     "name": "stdout",
     "output_type": "stream",
     "text": [
      "Adding new line to DB for: 2023-04-06\n",
      "No playoff games.\n",
      "Player position found: Point Guard\n",
      "Still working\n",
      "Still working\n",
      "Still working\n"
     ]
    },
    {
     "name": "stderr",
     "output_type": "stream",
     "text": [
      "100%|██████████████████████████████████████████████████████████████████████████████████████████████████████████████████████████████████| 124/124 [28:21<00:00, 13.72s/it]"
     ]
    },
    {
     "name": "stdout",
     "output_type": "stream",
     "text": [
      "Adding new line to DB for: 2023-04-06\n",
      "No playoff games.\n"
     ]
    },
    {
     "name": "stderr",
     "output_type": "stream",
     "text": [
      "\n"
     ]
    }
   ],
   "source": [
    "for player in tqdm(combined_player_list):\n",
    "    # !!! This navigates to the current season's page. It will need to be updated each season. !!!\n",
    "    # !!! It will also need to be changed during the playoffs. !!!\n",
    "    driver.get(\"https://www.sports-website.com\" + str(player.split(\".htm\")[0]) + \"/gamelog/2023\")\n",
    "    time.sleep(1)\n",
    "\n",
    "    # This then bounces to the game_scanner function.\n",
    "    try:\n",
    "        regular_games = driver.find_element(By.ID, \"all_pgl_basic\").find_elements(By.TAG_NAME, \"tr\")\n",
    "        game_scanner(regular_games, player, 'regular')\n",
    "    except:\n",
    "        print(\"No regular games.\")\n",
    "\n",
    "    try:\n",
    "        playoff_games = driver.find_element(By.ID, \"all_pgl_basic_playoffs\").find_elements(By.TAG_NAME, \"tr\")\n",
    "        game_scanner(playoff_games, player, 'playoffs')\n",
    "    except:\n",
    "        print(\"No playoff games.\")"
   ]
  },
  {
   "cell_type": "code",
   "execution_count": 13,
   "id": "959b09c8",
   "metadata": {},
   "outputs": [
    {
     "name": "stdout",
     "output_type": "stream",
     "text": [
      "['J.B. Bickerstaff', 'Cleveland Cavaliers', 2023, 4, 6, 'W']\n",
      "['Jamahl Mosley', 'Orlando Magic', 2023, 4, 6, 'L']\n",
      "['Erik Spoelstra', 'Miami Heat', 2023, 4, 6, 'W']\n",
      "['Doc Rivers', 'Philadelphia 76ers', 2023, 4, 6, 'L']\n",
      "['Chauncey Billups', 'Portland Trail Blazers', 2023, 4, 6, 'L']\n",
      "['Gregg Popovich', 'San Antonio Spurs', 2023, 4, 6, 'W']\n",
      "['Mark Daigneault', 'Oklahoma City Thunder', 2023, 4, 6, 'W']\n",
      "['Will Hardy', 'Utah Jazz', 2023, 4, 6, 'L']\n",
      "['Michael Malone', 'Denver Nuggets', 2023, 4, 6, 'L']\n",
      "['Monty Williams', 'Phoenix Suns', 2023, 4, 6, 'W']\n"
     ]
    }
   ],
   "source": [
    "# This is updating the coach page with a W/L\n",
    "for game in all_players:\n",
    "    visitor_coach = game[7]\n",
    "    home_coach = game[8]\n",
    "    year = game[11]\n",
    "    month = game[10]\n",
    "    day = game[9]\n",
    "    visitor_points = game[3]\n",
    "    home_points = game[5]\n",
    "    visitor_name = game[2]\n",
    "    home_name = game[4]\n",
    "    if visitor_points < home_points:\n",
    "        home_WL = \"W\"\n",
    "        visitor_WL = \"L\"\n",
    "    elif visitor_points > home_points:\n",
    "        home_WL = \"L\"\n",
    "        visitor_WL = \"W\"\n",
    "    else:\n",
    "        home_WL = \"T\"\n",
    "        visitor_WL = \"T\"       \n",
    "    visitor_entry = [visitor_coach, visitor_name, year, month, day, visitor_WL]\n",
    "    player_cursor.execute(\"\"\"INSERT INTO coaches(      \n",
    "                          coach_name, team_name, year, month, day, win_loss) VALUES (?, ?, \n",
    "                          ?, ?, ?, ?)\"\"\", visitor_entry)\n",
    "    player_connection.commit()\n",
    "    home_entry = [home_coach, home_name, year, month, day, home_WL]\n",
    "    player_cursor.execute(\"\"\"INSERT INTO coaches(      \n",
    "                          coach_name, team_name, year, month, day, win_loss) VALUES (?, ?, \n",
    "                          ?, ?, ?, ?)\"\"\", home_entry)\n",
    "    player_connection.commit()\n",
    "    print(visitor_entry)\n",
    "    print(home_entry)"
   ]
  },
  {
   "cell_type": "code",
   "execution_count": 14,
   "id": "f161e771",
   "metadata": {},
   "outputs": [],
   "source": [
    "# This checks for sneaky missing coach data.\n",
    "\n",
    "player_cursor.execute(\"SELECT rowid, team_name FROM coaches WHERE coach_name IS NULL\")\n",
    "missing_coaches = player_cursor.fetchall()\n",
    "\n",
    "for coach in missing_coaches:\n",
    "    team = [coach[1]]\n",
    "    schedule_cursor.execute(\"SELECT visitor_coach FROM games WHERE visitor_name = (?) ORDER BY rowid DESC LIMIT 1\", team)\n",
    "    updated_coach = schedule_cursor.fetchall()\n",
    "    data_entry = [updated_coach[0][0], coach[0]]\n",
    "    print(data_entry)\n",
    "    player_cursor.execute(\"UPDATE coaches SET coach_name = (?) WHERE rowid = (?)\", data_entry)\n",
    "    player_connection.commit()"
   ]
  },
  {
   "cell_type": "code",
   "execution_count": 15,
   "id": "6276b9ac",
   "metadata": {},
   "outputs": [],
   "source": [
    "# This is updating the day, month, year colums in the players/players DB.\n",
    "player_cursor.execute(\"SELECT rowid, date, day, month, year FROM players WHERE day IS NULL\")\n",
    "empty_dates = player_cursor.fetchall()\n",
    "for date in empty_dates:\n",
    "    text_date = date[1].split('-')\n",
    "    year = int(text_date[0])\n",
    "    month = int(text_date[1])\n",
    "    day = int(text_date[2])\n",
    "    date_entry = [year, month, day, date[0]]\n",
    "    player_cursor.execute(\"UPDATE players SET (year, month, day) = (?, ?, ?) WHERE rowid = (?)\", date_entry)\n",
    "    player_connection.commit()"
   ]
  },
  {
   "cell_type": "code",
   "execution_count": 16,
   "id": "ad5b618e",
   "metadata": {},
   "outputs": [
    {
     "name": "stdout",
     "output_type": "stream",
     "text": [
      "['Justin Minaya', '/players/m/minayju01.html']\n"
     ]
    }
   ],
   "source": [
    "# This needs to check for new players and add them to the dictionary:\n",
    "url = \"https://www.sports-website.com\"\n",
    "player_cursor.execute(\"SELECT DISTINCT link FROM dictionary\")\n",
    "old_links = []\n",
    "batch = player_cursor.fetchall()\n",
    "for link in batch:\n",
    "    old_links.append(link[0])\n",
    "\n",
    "player_cursor.execute(\"SELECT DISTINCT name FROM players\")\n",
    "new_links = []\n",
    "batch = player_cursor.fetchall()\n",
    "for link in batch:\n",
    "    if link[0] not in old_links:\n",
    "        new_links.append(link[0])\n",
    "    \n",
    "for i in new_links:\n",
    "    link = url + i\n",
    "    driver.get(link)\n",
    "    time.sleep(3)\n",
    "    spelling = driver.find_element(By.ID, 'meta').find_element(By.TAG_NAME, 'span').text\n",
    "    data = [spelling, i]\n",
    "    print(data)\n",
    "    player_cursor.execute(\"\"\"INSERT INTO dictionary(      \n",
    "                      spelling, link) VALUES (?, ?)\"\"\", data)\n",
    "    player_connection.commit()\n"
   ]
  },
  {
   "cell_type": "code",
   "execution_count": 5,
   "id": "c9234686",
   "metadata": {},
   "outputs": [
    {
     "name": "stdout",
     "output_type": "stream",
     "text": [
      "/players/j/jamesle01.html\n",
      "/players/n/nowitdi01.html\n",
      "/players/r/roybr01.html\n",
      "/players/a/artesro01.html\n",
      "/players/j/johnsjo02.html\n",
      "/players/b/boshch01.html\n",
      "/players/p/pietrmi01.html\n",
      "/players/a/allenra02.html\n",
      "/players/w/wadedw01.html\n",
      "/players/d/duranke01.html\n",
      "/players/b/bonnema01.html\n",
      "/players/b/breweco01.html\n",
      "/players/m/mayooj01.html\n",
      "/players/k/kamanch01.html\n",
      "/players/e/ellismo01.html\n",
      "/players/a/anthoca01.html\n",
      "/players/s/salmojo01.html\n",
      "/players/a/aldrila01.html\n",
      "/players/w/wallage01.html\n",
      "/players/i/iguodan01.html\n",
      "/players/h/horfoal01.html\n",
      "/players/p/piercpa01.html\n",
      "/players/p/paulch01.html\n",
      "/players/l/leeco01.html\n",
      "/players/g/gayru01.html\n",
      "/players/g/grangda01.html\n",
      "/players/p/princta01.html\n",
      "/players/k/kirilan01.html\n",
      "/players/n/nashst01.html\n",
      "/players/o/odomla01.html\n",
      "/players/f/foyera01.html\n",
      "/players/g/gallida01.html\n",
      "/players/a/arizatr01.html\n",
      "/players/j/jennibr01.html\n",
      "/players/p/parketo01.html\n",
      "/players/t/turkohe01.html\n",
      "/players/g/greenje02.html\n",
      "/players/m/martike01.html\n",
      "/players/s/stoudam01.html\n",
      "/players/h/hughela01.html\n",
      "/players/m/martike02.html\n",
      "/players/y/youngth01.html\n",
      "/players/g/gordobe01.html\n",
      "/players/r/richaqu01.html\n",
      "/players/d/denglu01.html\n",
      "/players/m/mariosh01.html\n",
      "/players/b/barnema02.html\n",
      "/players/b/bargnan01.html\n",
      "/players/b/butleca01.html\n",
      "/players/d/douglch01.html\n",
      "/players/d/duhonch01.html\n",
      "/players/t/thompja02.html\n",
      "/players/j/jonesda02.html\n",
      "/players/h/howardw01.html\n",
      "/players/w/willilo02.html\n",
      "/players/a/azubuke01.html\n",
      "/players/b/blakest01.html\n",
      "/players/s/smithjo03.html\n",
      "/players/a/alstora01.html\n",
      "/players/b/bogutan01.html\n",
      "/players/w/willide01.html\n",
      "/players/g/gordoer01.html\n",
      "/players/s/stuckro01.html\n",
      "/players/w/westbru01.html\n",
      "/players/u/udrihbe01.html\n",
      "/players/b/bryanko01.html\n",
      "/players/j/jefferi01.html\n",
      "/players/t/thornal01.html\n",
      "/players/n/noahjo01.html\n",
      "/players/d/douglto01.html\n",
      "/players/j/jeffeal01.html\n",
      "/players/c/cartevi01.html\n",
      "/players/d/davisba01.html\n",
      "/players/f/fryech01.html\n",
      "/players/b/bynuman01.html\n",
      "/players/w/westda01.html\n",
      "/players/d/diawbo01.html\n",
      "/players/a/arenagi01.html\n",
      "/players/h/hicksjj01.html\n",
      "/players/d/duncati01.html\n",
      "/players/r/richaja01.html\n",
      "/players/l/lopezbr01.html\n",
      "/players/o/okafoem01.html\n",
      "/players/b/brookaa01.html\n",
      "/players/a/afflaar01.html\n",
      "/players/e/evansty01.html\n",
      "/players/l/lewisra02.html\n",
      "/players/r/rondora01.html\n",
      "/players/d/delfica01.html\n",
      "/players/r/rushbr01.html\n",
      "/players/s/sefolth01.html\n",
      "/players/w/willima01.html\n",
      "/players/c/collida01.html\n",
      "/players/b/brewero02.html\n",
      "/players/j/jonesja02.html\n",
      "/players/j/jamisan01.html\n",
      "/players/w/willija02.html\n",
      "/players/f/flynnjo01.html\n",
      "/players/j/jacksst02.html\n",
      "/players/o/onealje01.html\n",
      "/players/w/wallabe01.html\n",
      "/players/i/ilyaser01.html\n",
      "/players/c/curryst01.html\n",
      "/players/l/leeda02.html\n",
      "/players/h/hilarne01.html\n",
      "/players/g/gasolpa01.html\n",
      "/players/f/feltora01.html\n",
      "/players/w/willima02.html\n",
      "/players/b/boozeca01.html\n",
      "/players/h/harrial01.html\n",
      "/players/j/jerebjo01.html\n",
      "/players/g/greendo01.html\n",
      "/players/r/rosede01.html\n",
      "/players/r/randoza01.html\n",
      "/players/m/murphtr01.html\n",
      "/players/m/mbahalu01.html\n",
      "/players/b/brandel01.html\n",
      "/players/s/stojape01.html\n",
      "/players/j/jackja01.html\n",
      "/players/e/evansma01.html\n",
      "/players/k/kiddja01.html\n",
      "/players/b/beaslmi01.html\n",
      "/players/l/loveke01.html\n",
      "/players/w/wilkida02.html\n",
      "/players/c/chandwi01.html\n",
      "/players/h/hillgr01.html\n",
      "/players/b/battish01.html\n",
      "/players/r/reddmi01.html\n",
      "/players/a/arroyca01.html\n",
      "/players/j/jianlyi01.html\n",
      "/players/h/headlu01.html\n",
      "/players/h/howarju01.html\n",
      "/players/c/casspom01.html\n",
      "/players/w/watsoea01.html\n",
      "/players/a/allento01.html\n",
      "/players/w/webstma02.html\n",
      "/players/h/hinriki01.html\n",
      "/players/b/butlera01.html\n",
      "/players/h/hibbero01.html\n",
      "/players/m/milescj01.html\n",
      "/players/r/redicjj01.html\n",
      "/players/h/hamilri01.html\n",
      "/players/g/gasolma01.html\n",
      "/players/j/jeffrja01.html\n",
      "/players/l/lopezro01.html\n",
      "/players/w/westde01.html\n",
      "/players/s/scolalu01.html\n",
      "/players/d/dudleja01.html\n",
      "/players/g/gibsoda01.html\n",
      "/players/b/bellch01.html\n",
      "/players/m/millspa01.html\n",
      "/players/h/hillge01.html\n",
      "/players/h/holliry01.html\n",
      "/players/t/thornma01.html\n",
      "/players/t/terryja01.html\n",
      "/players/g/gomesry01.html\n",
      "/players/m/morroan01.html\n",
      "/players/b/brownsh01.html\n",
      "/players/m/millemi01.html\n",
      "/players/h/holidjr01.html\n",
      "/players/b/blatcan01.html\n",
      "/players/g/gibsota01.html\n",
      "/players/h/harride01.html\n",
      "/players/m/millean02.html\n",
      "/players/h/haywobr01.html\n",
      "/players/f/fordtj01.html\n",
      "/players/o/okurme01.html\n",
      "/players/l/landrca01.html\n",
      "/players/m/millebr01.html\n",
      "/players/b/billuch01.html\n",
      "/players/m/mcgeeja01.html\n",
      "/players/m/maggeco01.html\n",
      "/players/b/bynumwi01.html\n",
      "/players/g/goodedr01.html\n",
      "/players/f/fesenky01.html\n",
      "/players/t/tollian01.html\n",
      "/players/p/pargoja01.html\n",
      "/players/m/milicda01.html\n",
      "/players/m/matthwe02.html\n",
      "/players/w/willire02.html\n",
      "/players/k/kaponja01.html\n",
      "/players/y/youngni01.html\n",
      "/players/b/barroea01.html\n",
      "/players/d/dayeau01.html\n",
      "/players/d/dalemsa01.html\n",
      "/players/m/moonja01.html\n",
      "/players/g/ginobma01.html\n",
      "/players/a/augusdj01.html\n",
      "/players/l/livinsh01.html\n",
      "/players/w/willite01.html\n",
      "/players/c/cambyma01.html\n",
      "/players/t/teaguje01.html\n",
      "/players/a/anthojo01.html\n",
      "/players/s/sessira01.html\n",
      "/players/j/johnsam01.html\n",
      "/players/b/batumni01.html\n",
      "/players/f/fishede01.html\n",
      "/players/b/bibbymi01.html\n",
      "/players/p/parkean01.html\n",
      "/players/c/conlemi01.html\n",
      "/players/g/griffbl01.html\n",
      "/players/r/ridnolu01.html\n",
      "/players/w/wrighdo01.html\n",
      "/players/v/varejan01.html\n",
      "/players/b/blairde01.html\n",
      "/players/b/bledser01.html\n",
      "/players/w/walljo01.html\n",
      "/players/s/smithis01.html\n",
      "/players/o/outlatr01.html\n",
      "/players/l/lowryky01.html\n",
      "/players/t/turneev01.html\n",
      "/players/d/derozde01.html\n",
      "/players/m/maxieja01.html\n",
      "/players/w/weemsso01.html\n",
      "/players/j/johnswe01.html\n",
      "/players/m/meeksjo01.html\n",
      "/players/b/bayleje01.html\n",
      "/players/r/robinna01.html\n",
      "/players/k/kleizli01.html\n",
      "/players/b/bassbr01.html\n",
      "/players/s/smithjr01.html\n",
      "/players/g/garcifr01.html\n",
      "/players/f/fieldla01.html\n",
      "/players/g/grahast01.html\n",
      "/players/j/jordade01.html\n",
      "/players/g/gortama01.html\n",
      "/players/d/davisgl01.html\n",
      "/players/f/farmajo01.html\n",
      "/players/c/caldejo01.html\n",
      "/players/m/monrogr01.html\n",
      "/players/d/doolike01.html\n",
      "/players/h/hayesch01.html\n",
      "/players/t/thomaku01.html\n",
      "/players/d/dunlemi02.html\n",
      "/players/c/couside01.html\n",
      "/players/y/youngsa01.html\n",
      "/players/b/brownkw01.html\n",
      "/players/b/budinch01.html\n",
      "/players/g/geeal01.html\n",
      "/players/i/ibakase01.html\n",
      "/players/h/humphkr01.html\n",
      "/players/s/samuesa01.html\n",
      "/players/w/warriha01.html\n",
      "/players/h/hendege02.html\n",
      "/players/d/davised01.html\n",
      "/players/l/lawsoty01.html\n",
      "/players/b/booketr01.html\n",
      "/players/h/hansbty01.html\n",
      "/players/c/crawfjo02.html\n",
      "/players/b/bellra01.html\n",
      "/players/n/nelsoja01.html\n",
      "/players/c/cunnida01.html\n",
      "/players/v/vujacsa01.html\n",
      "/players/f/forbega01.html\n",
      "/players/d/dragigo01.html\n",
      "/players/w/wafervo01.html\n",
      "/players/j/johnsja01.html\n",
      "/players/c/chandty01.html\n",
      "/players/f/favorde01.html\n",
      "/players/b/belinma01.html\n",
      "/players/k/knighbr03.html\n",
      "/players/s/singlch01.html\n",
      "/players/s/shumpim01.html\n",
      "/players/l/lucasjo02.html\n",
      "/players/l/leonaka01.html\n",
      "/players/i/irvinky01.html\n",
      "/players/w/watsocj01.html\n",
      "/players/b/brookma01.html\n",
      "/players/p/pavloal01.html\n",
      "/players/w/walkeke02.html\n",
      "/players/g/georgpa01.html\n",
      "/players/r/rubiori01.html\n",
      "/players/b/beaubro01.html\n",
      "/players/b/bradlav01.html\n",
      "/players/s/smithja02.html\n",
      "/players/p/parsoch01.html\n",
      "/players/h/haywago01.html\n",
      "/players/l/linje01.html\n",
      "/players/v/vasqugr01.html\n",
      "/players/c/crawfja01.html\n",
      "/players/f/fernaru01.html\n",
      "/players/p/pekovni01.html\n",
      "/players/b/biyombi01.html\n",
      "/players/t/thomais02.html\n",
      "/players/h/howarjo01.html\n",
      "/players/p/pachuza01.html\n",
      "/players/c/chalmma01.html\n",
      "/players/u/udohek01.html\n",
      "/players/w/willide02.html\n",
      "/players/g/greenda02.html\n",
      "/players/a/anderry01.html\n",
      "/players/a/ayongu01.html\n",
      "/players/t/thompkl01.html\n",
      "/players/v/veselja01.html\n",
      "/players/m/mulleby01.html\n",
      "/players/s/sloando01.html\n",
      "/players/s/serapke01.html\n",
      "/players/a/anderal01.html\n",
      "/players/b/brownde04.html\n",
      "/players/b/bareajo01.html\n",
      "/players/s/smithno01.html\n",
      "/players/h/hasleud01.html\n",
      "/players/h/harrima01.html\n",
      "/players/c/coleno01.html\n",
      "/players/j/jenkich01.html\n",
      "/players/s/stephla01.html\n",
      "/players/h/harrito02.html\n",
      "/players/u/uzohbe01.html\n",
      "/players/w/wrighch01.html\n",
      "/players/p/priceaj01.html\n",
      "/players/h/hardeja01.html\n",
      "/players/a/aminual01.html\n",
      "/players/m/mooreet01.html\n",
      "/players/d/davisan02.html\n",
      "/players/b/barneha02.html\n",
      "/players/r/riverau01.html\n",
      "/players/w/waitedi01.html\n"
     ]
    },
    {
     "name": "stdout",
     "output_type": "stream",
     "text": [
      "/players/b/bealbr01.html\n",
      "/players/s/singlky01.html\n",
      "/players/t/tinslja01.html\n",
      "/players/t/tayloje03.html\n",
      "/players/n/nealga01.html\n",
      "/players/k/kanteen01.html\n",
      "/players/l/lillada01.html\n",
      "/players/s/shvedal01.html\n",
      "/players/d/daniema01.html\n",
      "/players/p/pondequ01.html\n",
      "/players/f/farieke01.html\n",
      "/players/v/vucevni01.html\n",
      "/players/e/evansre01.html\n",
      "/players/g/greenwi01.html\n",
      "/players/z/zellety01.html\n",
      "/players/c/clarkea01.html\n",
      "/players/k/kiddgmi01.html\n",
      "/players/k/korveky01.html\n",
      "/players/b/butleji01.html\n",
      "/players/t/thomptr01.html\n",
      "/players/t/templga01.html\n",
      "/players/a/allenla01.html\n",
      "/players/n/nichoan01.html\n",
      "/players/h/harklma01.html\n",
      "/players/e/ellinwa01.html\n",
      "/players/r/roberbr01.html\n",
      "/players/c/crowdja01.html\n",
      "/players/m/morrima02.html\n",
      "/players/t/tuckepj01.html\n",
      "/players/s/stiemgr01.html\n",
      "/players/p/prigipa01.html\n",
      "/players/a/anderja01.html\n",
      "/players/m/mcrobjo01.html\n",
      "/players/v/valanjo01.html\n",
      "/players/d/decolna01.html\n",
      "/players/p/pattepa01.html\n",
      "/players/m/martica01.html\n",
      "/players/b/bartowi01.html\n",
      "/players/h/hawessp01.html\n",
      "/players/p/petrojo01.html\n",
      "/players/g/greenge01.html\n",
      "/players/w/whiteja02.html\n",
      "/players/j/jonespe01.html\n",
      "/players/g/goudean01.html\n",
      "/players/m/morrida01.html\n",
      "/players/p/plumlmi01.html\n",
      "/players/w/woltena01.html\n",
      "/players/d/drumman01.html\n",
      "/players/c/cartemi01.html\n",
      "/players/h/hilljo01.html\n",
      "/players/o/oladivi01.html\n",
      "/players/c/carrode01.html\n",
      "/players/c/caldwke01.html\n",
      "/players/k/koufoko01.html\n",
      "/players/t/tayloty01.html\n",
      "/players/b/beverpa01.html\n",
      "/players/h/hensojo01.html\n",
      "/players/m/middlkh01.html\n",
      "/players/b/burketr01.html\n",
      "/players/r/rosste01.html\n",
      "/players/t/thompho01.html\n",
      "/players/s/sullija01.html\n",
      "/players/w/willish03.html\n",
      "/players/m/marshke01.html\n",
      "/players/d/dellama01.html\n",
      "/players/b/burksal01.html\n",
      "/players/m/millequ01.html\n",
      "/players/j/joneste01.html\n",
      "/players/j/jacksre01.html\n",
      "/players/c/calatni01.html\n",
      "/players/b/bazemke01.html\n",
      "/players/m/mclembe01.html\n",
      "/players/s/splitti01.html\n",
      "/players/f/fournev01.html\n",
      "/players/g/greendr01.html\n",
      "/players/w/wroteto01.html\n",
      "/players/j/josepco01.html\n",
      "/players/d/dienggo01.html\n",
      "/players/m/mccalra01.html\n",
      "/players/o/oquinky01.html\n",
      "/players/h/hummero01.html\n",
      "/players/m/milleda01.html\n",
      "/players/p/pressph01.html\n",
      "/players/a/aldrico01.html\n",
      "/players/m/morrima03.html\n",
      "/players/p/parkeja01.html\n",
      "/players/c/canaais01.html\n",
      "/players/h/hillso01.html\n",
      "/players/l/lavinza01.html\n",
      "/players/l/lambje01.html\n",
      "/players/b/bogdabo02.html\n",
      "/players/n/noelne01.html\n",
      "/players/m/mozgoti01.html\n",
      "/players/w/wiggian01.html\n",
      "/players/m/motiedo01.html\n",
      "/players/r/roberan03.html\n",
      "/players/a/antetgi01.html\n",
      "/players/a/acyqu01.html\n",
      "/players/p/plumlma01.html\n",
      "/players/c/covinro01.html\n",
      "/players/m/muhamsh01.html\n",
      "/players/p/pricero01.html\n",
      "/players/p/paytoel01.html\n",
      "/players/h/hardati02.html\n",
      "/players/k/kellyry01.html\n",
      "/players/e/earlycl01.html\n",
      "/players/m/mcdankj01.html\n",
      "/players/c/clarkjo01.html\n",
      "/players/b/brownlo01.html\n",
      "/players/a/amundlo01.html\n",
      "/players/s/smartma01.html\n",
      "/players/g/gallola01.html\n",
      "/players/f/fraziti01.html\n",
      "/players/a/asikom01.html\n",
      "/players/l/lenal01.html\n",
      "/players/s/snellto01.html\n",
      "/players/w/walkebi01.html\n",
      "/players/g/goberru01.html\n",
      "/players/g/grantje01.html\n",
      "/players/l/larkish01.html\n",
      "/players/p/porteot01.html\n",
      "/players/h/hoodro01.html\n",
      "/players/t/thomala01.html\n",
      "/players/m/mccolcj01.html\n",
      "/players/b/brownja01.html\n",
      "/players/w/warretj01.html\n",
      "/players/r/randlju01.html\n",
      "/players/o/okafoja01.html\n",
      "/players/w/whiteha01.html\n",
      "/players/c/caulewi01.html\n",
      "/players/m/mccontj01.html\n",
      "/players/s/stausni01.html\n",
      "/players/r/russeda01.html\n",
      "/players/p/porzikr01.html\n",
      "/players/l/lylestr01.html\n",
      "/players/h/harriga01.html\n",
      "/players/t/townska01.html\n",
      "/players/w/witheje01.html\n",
      "/players/b/brownan02.html\n",
      "/players/j/johnsst04.html\n",
      "/players/m/mudiaem01.html\n",
      "/players/z/zelleco01.html\n",
      "/players/b/bookede01.html\n",
      "/players/j/jokicni01.html\n",
      "/players/g/goodwar01.html\n",
      "/players/d/dejeabr01.html\n",
      "/players/h/hezonma01.html\n",
      "/players/h/holidju01.html\n",
      "/players/m/macksh01.html\n",
      "/players/r/richajo01.html\n",
      "/players/g/gordoaa01.html\n",
      "/players/v/vaughra01.html\n",
      "/players/p/powelno01.html\n",
      "/players/a/ajincal01.html\n",
      "/players/e/ennisja01.html\n",
      "/players/g/grantje02.html\n",
      "/players/m/mcraejo01.html\n",
      "/players/h/harrian01.html\n",
      "/players/r/rodrise01.html\n",
      "/players/w/winslju01.html\n",
      "/players/g/greenja01.html\n",
      "/players/h/holliro01.html\n",
      "/players/c/curryse01.html\n",
      "/players/r/robingl02.html\n",
      "/players/i/ingrabr01.html\n",
      "/players/m/mcgruro01.html\n",
      "/players/k/kilpase01.html\n",
      "/players/w/whiteis01.html\n",
      "/players/w/willitr02.html\n",
      "/players/e/embiijo01.html\n",
      "/players/o/oubreke01.html\n",
      "/players/c/crabbal01.html\n",
      "/players/t/turnemy01.html\n",
      "/players/a/adamsst01.html\n",
      "/players/n/noguelu01.html\n",
      "/players/k/kuzmimi01.html\n",
      "/players/b/bullore01.html\n",
      "/players/s/schrode01.html\n",
      "/players/d/dinwisp01.html\n",
      "/players/b/brownja02.html\n",
      "/players/z/zipsepa01.html\n",
      "/players/f/ferreyo01.html\n",
      "/players/b/bertada01.html\n",
      "/players/l/leuerjo01.html\n",
      "/players/h/hernaju01.html\n",
      "/players/s/saricda01.html\n",
      "/players/b/brogdma01.html\n",
      "/players/a/anderky01.html\n",
      "/players/m/millspa02.html\n",
      "/players/l/luwawti01.html\n",
      "/players/u/ulisty01.html\n",
      "/players/m/mirotni01.html\n",
      "/players/b/bakerro01.html\n",
      "/players/l/labissk01.html\n",
      "/players/v/vonleno01.html\n",
      "/players/n/nancela02.html\n",
      "/players/s/simmojo02.html\n",
      "/players/p/princta02.html\n",
      "/players/m/murraja01.html\n",
      "/players/h/holmeri01.html\n",
      "/players/m/mccawpa01.html\n",
      "/players/j/jacksjo02.html\n",
      "/players/m/markkla01.html\n",
      "/players/l/leverca01.html\n",
      "/players/b/balllo01.html\n",
      "/players/t/tatumja01.html\n",
      "/players/k/kuzmaky01.html\n",
      "/players/d/dedmode01.html\n",
      "/players/m/mitchdo01.html\n",
      "/players/f/forbebr01.html\n",
      "/players/s/siakapa01.html\n",
      "/players/b/brookdi01.html\n",
      "/players/c/collijo01.html\n",
      "/players/v/valende01.html\n",
      "/players/j/johnsty01.html\n",
      "/players/m/masonfr01.html\n",
      "/players/b/bogdabo01.html\n",
      "/players/f/foxde01.html\n",
      "/players/d/dekkesa01.html\n",
      "/players/h/hartjo01.html\n",
      "/players/y/youngjo01.html\n",
      "/players/m/murrade01.html\n",
      "/players/m/martija01.html\n",
      "/players/s/smithde03.html\n",
      "/players/w/wallaty01.html\n",
      "/players/r/roziete01.html\n",
      "/players/a/abrinal01.html\n",
      "/players/n/nwabada01.html\n",
      "/players/p/poweldw01.html\n",
      "/players/j/jacksju01.html\n",
      "/players/d/dorsety01.html\n",
      "/players/b/babbilu01.html\n",
      "/players/b/bjeline01.html\n",
      "/players/c/capelca01.html\n",
      "/players/c/cookqu01.html\n",
      "/players/s/satorto01.html\n",
      "/players/b/bendedr01.html\n",
      "/players/f/feliccr01.html\n",
      "/players/i/iwundwe01.html\n",
      "/players/b/belljo01.html\n",
      "/players/l/leeda03.html\n",
      "/players/a/allenja01.html\n",
      "/players/n/ntilila01.html\n",
      "/players/h/houseda01.html\n",
      "/players/a/anunoog01.html\n",
      "/players/h/harriaa01.html\n",
      "/players/n/naderab01.html\n",
      "/players/p/payneca01.html\n",
      "/players/o/osmande01.html\n",
      "/players/t/thornsi01.html\n",
      "/players/d/doncilu01.html\n",
      "/players/f/finnedo01.html\n",
      "/players/o/okogijo01.html\n",
      "/players/h/harrijo01.html\n",
      "/players/y/youngtr01.html\n",
      "/players/t/trieral01.html\n",
      "/players/s/sextoco01.html\n",
      "/players/b/bembrde01.html\n",
      "/players/s/spellom01.html\n",
      "/players/f/fergute01.html\n",
      "/players/a/arcidry01.html\n",
      "/players/s/sabondo01.html\n",
      "/players/h/huertke01.html\n",
      "/players/b/brunsja01.html\n",
      "/players/c/craigto01.html\n",
      "/players/k/knoxke01.html\n",
      "/players/g/gilgesh01.html\n",
      "/players/v/vanvlfr01.html\n",
      "/players/k/kurucro01.html\n",
      "/players/a/aytonde01.html\n",
      "/players/g/grahade01.html\n",
      "/players/b/bryanth01.html\n",
      "/players/c/cartewe01.html\n",
      "/players/n/nurkiju01.html\n",
      "/players/o/onealro01.html\n",
      "/players/a/adebaba01.html\n",
      "/players/b/beaslma01.html\n",
      "/players/w/whitede01.html\n",
      "/players/h/hutchch01.html\n",
      "/players/s/sumneed01.html\n",
      "/players/w/willike04.html\n",
      "/players/s/shamela01.html\n",
      "/players/d/dotsoda01.html\n",
      "/players/o/olynyke01.html\n",
      "/players/j/jonesty01.html\n",
      "/players/j/jacksfr01.html\n",
      "/players/w/wagnemo01.html\n",
      "/players/b/bateske01.html\n",
      "/players/b/bridgmi02.html\n",
      "/players/d/dunnkr01.html\n",
      "/players/h/harrish01.html\n",
      "/players/s/seldewa01.html\n",
      "/players/c/cabocbr01.html\n",
      "/players/c/clarkia01.html\n",
      "/players/c/carusal01.html\n",
      "/players/p/portibo01.html\n",
      "/players/l/lemonwa01.html\n",
      "/players/w/wrighde01.html\n",
      "/players/b/brownst02.html\n",
      "/players/r/robinmi01.html\n",
      "/players/j/jonesje01.html\n",
      "/players/s/smithzh01.html\n",
      "/players/z/zubaciv01.html\n",
      "/players/s/simonan01.html\n",
      "/players/w/washipj01.html\n",
      "/players/j/jacksja02.html\n",
      "/players/b/barrerj01.html\n",
      "/players/p/pascher01.html\n",
      "/players/i/isaacjo01.html\n",
      "/players/b/brownbr01.html\n",
      "/players/m/moranja01.html\n",
      "/players/b/bowmaky01.html\n",
      "/players/r/robindu01.html\n",
      "/players/h/huntede01.html\n",
      "/players/h/harremo01.html\n",
      "/players/k/kennalu01.html\n",
      "/players/h/holidaa01.html\n"
     ]
    },
    {
     "name": "stdout",
     "output_type": "stream",
     "text": [
      "/players/n/nunnke01.html\n",
      "/players/l/laymaja01.html\n",
      "/players/k/klebima01.html\n",
      "/players/m/mannte01.html\n",
      "/players/p/poeltja01.html\n",
      "/players/h/hachiru01.html\n",
      "/players/m/mykhasv01.html\n",
      "/players/b/browntr01.html\n",
      "/players/m/mahinia01.html\n",
      "/players/c/culveja01.html\n",
      "/players/n/napiesh01.html\n",
      "/players/p/paytoga02.html\n",
      "/players/w/willijo04.html\n",
      "/players/j/jonesde02.html\n",
      "/players/f/fultzma01.html\n",
      "/players/d/doumbse01.html\n",
      "/players/g/garlada01.html\n",
      "/players/h/herroty01.html\n",
      "/players/w/woodch01.html\n",
      "/players/m/mclaujo01.html\n",
      "/players/p/poolejo01.html\n",
      "/players/r/reddica01.html\n",
      "/players/p/porteke02.html\n",
      "/players/w/whiteco01.html\n",
      "/players/w/willizi01.html\n",
      "/players/b/bacondw01.html\n",
      "/players/j/johnske04.html\n",
      "/players/c/clarkbr01.html\n",
      "/players/j/joeis01.html\n",
      "/players/t/tateja01.html\n",
      "/players/v/vandeja01.html\n",
      "/players/c/clarkga01.html\n",
      "/players/t/trentga02.html\n",
      "/players/m/maledth01.html\n",
      "/players/a/anthoco01.html\n",
      "/players/b/bazleda01.html\n",
      "/players/k/korkmfu01.html\n",
      "/players/b/ballla01.html\n",
      "/players/d/diallha01.html\n",
      "/players/b/beysa01.html\n",
      "/players/d/dortlu01.html\n",
      "/players/p/portemi01.html\n",
      "/players/p/pokusal01.html\n",
      "/players/m/miltosh01.html\n",
      "/players/c/connapa01.html\n",
      "/players/o/okekech01.html\n",
      "/players/a/antetth01.html\n",
      "/players/m/mcdanja02.html\n",
      "/players/r/robyis01.html\n",
      "/players/w/wadede01.html\n",
      "/players/a/alexani01.html\n",
      "/players/b/brownmo01.html\n",
      "/players/n/nworajo01.html\n",
      "/players/m/mcdanja01.html\n",
      "/players/f/flynnma01.html\n",
      "/players/b/bouchch01.html\n",
      "/players/b/brissos01.html\n",
      "/players/t/thybuma01.html\n",
      "/players/b/brookar01.html\n",
      "/players/w/walkelo01.html\n",
      "/players/m/muldemy01.html\n",
      "/players/m/metuch01.html\n",
      "/players/b/brownch02.html\n",
      "/players/s/stewais01.html\n",
      "/players/t/theisda01.html\n",
      "/players/b/bambamo01.html\n",
      "/players/m/martike04.html\n",
      "/players/c/campafa01.html\n",
      "/players/m/maxeyty01.html\n",
      "/players/h/hayeski01.html\n",
      "/players/h/hortota01.html\n",
      "/players/v/vassede01.html\n",
      "/players/h/halljo01.html\n",
      "/players/j/jonesda03.html\n",
      "/players/g/greenja05.html\n",
      "/players/a/allengr01.html\n",
      "/players/b/barnesc01.html\n",
      "/players/c/cunnica01.html\n",
      "/players/b/banede01.html\n",
      "/players/g/greenja02.html\n",
      "/players/d/dosunay01.html\n",
      "/players/m/mathega01.html\n",
      "/players/m/martico01.html\n",
      "/players/g/grimequ01.html\n",
      "/players/s/smartja01.html\n",
      "/players/s/strusma01.html\n",
      "/players/k/kispeco01.html\n",
      "/players/w/wiggiaa01.html\n",
      "/players/m/monkma01.html\n",
      "/players/s/sykeske01.html\n",
      "/players/c/coffeam01.html\n",
      "/players/l/littlna01.html\n",
      "/players/d/daviste02.html\n",
      "/players/v/vincega01.html\n",
      "/players/m/morrimo01.html\n",
      "/players/f/forretr01.html\n",
      "/players/j/jonestr01.html\n",
      "/players/h/hayesja02.html\n",
      "/players/e/ellebcj01.html\n",
      "/players/w/willigr01.html\n",
      "/players/g/goodwbr01.html\n",
      "/players/m/marshna01.html\n",
      "/players/h/hamptrj01.html\n",
      "/players/a/anderju01.html\n",
      "/players/e/eubandr01.html\n",
      "/players/w/willizi02.html\n",
      "/players/w/watfotr01.html\n",
      "/players/j/johnske07.html\n",
      "/players/k/krejcvi01.html\n",
      "/players/b/brazdig01.html\n",
      "/players/h/hoardja01.html\n",
      "/players/k/konchjo01.html\n",
      "/players/r/reidna01.html\n",
      "/players/o/odengr01.html\n",
      "/players/d/dampier01.html\n",
      "/players/b/boganke01.html\n",
      "/players/b/brownde02.html\n",
      "/players/h/hassetr01.html\n",
      "/players/v/villach01.html\n",
      "/players/t/thomati01.html\n",
      "/players/w/wallara01.html\n",
      "/players/i/iversal01.html\n",
      "/players/b/brockjo01.html\n",
      "/players/b/biedran01.html\n",
      "/players/c/cookda02.html\n",
      "/players/m/mcdyean01.html\n",
      "/players/h/huntech01.html\n",
      "/players/b/boonejo01.html\n",
      "/players/w/wrighan01.html\n",
      "/players/w/westma02.html\n",
      "/players/g/garneke01.html\n",
      "/players/n/nocioan01.html\n",
      "/players/k/krstine01.html\n",
      "/players/s/stevede01.html\n",
      "/players/m/mcgratr01.html\n",
      "/players/p/perkike01.html\n",
      "/players/r/radmavl01.html\n",
      "/players/t/thomaty01.html\n",
      "/players/f/fredeji01.html\n",
      "/players/s/speigma01.html\n",
      "/players/w/willish02.html\n",
      "/players/t/tylerje01.html\n",
      "/players/p/pargoje01.html\n",
      "/players/c/copelch01.html\n",
      "/players/s/sandela01.html\n",
      "/players/m/mohamna01.html\n",
      "/players/j/jamesmi01.html\n",
      "/players/t/thabeha01.html\n",
      "/players/f/favervi01.html\n",
      "/players/e/evansje01.html\n",
      "/players/h/henryxa01.html\n",
      "/players/s/simshe01.html\n",
      "/players/a/adrieje01.html\n",
      "/players/s/scottmi01.html\n",
      "/players/t/telfase01.html\n",
      "/players/t/teletmi01.html\n",
      "/players/m/millsel01.html\n",
      "/players/l/lauvejo01.html\n",
      "/players/b/brownma02.html\n",
      "/players/r/rudezda01.html\n",
      "/players/e/exumda01.html\n",
      "/players/w/wrighbr03.html\n",
      "/players/b/blackta01.html\n",
      "/players/h/hamilju01.html\n",
      "/players/m/muscami01.html\n",
      "/players/b/blueva01.html\n",
      "/players/n/netora01.html\n",
      "/players/w/weberbr01.html\n",
      "/players/b/baynear01.html\n",
      "/players/c/chrisma01.html\n",
      "/players/n/ndourma01.html\n",
      "/players/m/mcadoja01.html\n",
      "/players/w/willicj01.html\n",
      "/players/t/teodomi01.html\n",
      "/players/e/evansja01.html\n",
      "/players/m/moreler01.html\n",
      "/players/k/kornelu01.html\n",
      "/players/d/danietr01.html\n",
      "/players/t/taylois01.html\n",
      "/players/a/artisja01.html\n",
      "/players/s/simmoko01.html\n",
      "/players/c/colliky01.html\n",
      "/players/b/birdja01.html\n",
      "/players/m/meltode01.html\n",
      "/players/g/grahatr01.html\n",
      "/players/z/zizican01.html\n",
      "/players/b/blakean01.html\n",
      "/players/w/wilsodj01.html\n",
      "/players/m/marjabo01.html\n",
      "/players/l/leoname01.html\n",
      "/players/d/divindo01.html\n",
      "/players/b/birchkh01.html\n",
      "/players/b/bongais01.html\n",
      "/players/r/robinje01.html\n",
      "/players/o/ojelese01.html\n",
      "/players/b/baglema01.html\n",
      "/players/j/johnsca02.html\n",
      "/players/k/kaminfr01.html\n",
      "/players/p/pattoju01.html\n",
      "/players/n/niangge01.html\n",
      "/players/h/hernawi01.html\n",
      "/players/j/jeffrda01.html\n",
      "/players/t/tilliki02.html\n",
      "/players/t/toscaju01.html\n",
      "/players/o/okongon01.html\n",
      "/players/d/duartch01.html\n",
      "/players/w/williro04.html\n",
      "/players/e/edwarke02.html\n",
      "/players/m/mamuksa01.html\n",
      "/players/g/garzalu01.html\n",
      "/players/w/washidu02.html\n",
      "/players/k/kuminjo01.html\n",
      "/players/m/manntr01.html\n",
      "/players/r/reaveau01.html\n",
      "/players/p/primojo01.html\n",
      "/players/c/carteje01.html\n",
      "/players/t/toppiob01.html\n",
      "/players/t/tillmxa01.html\n",
      "/players/h/hylanbo01.html\n",
      "/players/m/murphtr02.html\n",
      "/players/p/perryre01.html\n",
      "/players/m/mbengdj01.html\n",
      "/players/i/ilgauzy01.html\n",
      "/players/o/onealsh01.html\n",
      "/players/a/atkinch01.html\n",
      "/players/p/przybjo01.html\n",
      "/players/r/randoan01.html\n",
      "/players/u/udokaim01.html\n",
      "/players/h/hayesja01.html\n",
      "/players/g/georgde01.html\n",
      "/players/w/willija04.html\n",
      "/players/w/wrighju01.html\n",
      "/players/p/petermo01.html\n",
      "/players/s/smithjo02.html\n",
      "/players/a/arthuda01.html\n",
      "/players/g/gadzuda01.html\n",
      "/players/t/turiaro01.html\n",
      "/players/g/grahajo01.html\n",
      "/players/r/rossqu01.html\n",
      "/players/d/dorsejo01.html\n",
      "/players/c/cardibr01.html\n",
      "/players/e/eyengch01.html\n",
      "/players/g/grayaa01.html\n",
      "/players/w/wilcoch01.html\n",
      "/players/j/jamesda01.html\n",
      "/players/w/whitedj01.html\n",
      "/players/s/summeda01.html\n",
      "/players/c/carroma01.html\n",
      "/players/s/stoneju01.html\n",
      "/players/e/erdense01.html\n",
      "/players/g/gainesu01.html\n",
      "/players/c/collija04.html\n",
      "/players/g/gladnmi01.html\n",
      "/players/l/leema01.html\n",
      "/players/j/jonesde01.html\n",
      "/players/g/gelabmi01.html\n",
      "/players/i/iveyro01.html\n",
      "/players/c/clavevi01.html\n",
      "/players/p/pendeje02.html\n",
      "/players/g/gutiejo01.html\n",
      "/players/d/daviebr01.html\n",
      "/players/k/karasse01.html\n",
      "/players/a/anderch01.html\n",
      "/players/s/sacrero01.html\n",
      "/players/p/paynead01.html\n",
      "/players/h/hairspj02.html\n",
      "/players/s/sampsja02.html\n",
      "/players/r/robinth01.html\n",
      "/players/m/mcderdo01.html\n",
      "/players/d/delanma01.html\n",
      "/players/j/jamesmi02.html\n",
      "/players/r/rabbiv01.html\n",
      "/players/y/yabusgu01.html\n",
      "/players/a/allenka01.html\n",
      "/players/a/adelde01.html\n",
      "/players/s/sampsbr01.html\n",
      "/players/m/makerth01.html\n",
      "/players/o/okoboel01.html\n",
      "/players/c/colsobo01.html\n",
      "/players/m/martike03.html\n",
      "/players/w/waltode01.html\n",
      "/players/h/harteis01.html\n",
      "/players/g/gilesha01.html\n",
      "/players/m/mathida01.html\n",
      "/players/o/okpalkz01.html\n",
      "/players/g/greenjo02.html\n",
      "/players/j/jeromty01.html\n",
      "/players/l/leesa01.html\n",
      "/players/b/bitadgo01.html\n",
      "/players/m/martica02.html\n",
      "/players/a/achiupr01.html\n",
      "/players/t/thomakh01.html\n",
      "/players/r/robinje02.html\n",
      "/players/d/dukeda01.html\n",
      "/players/t/thomaca02.html\n",
      "/players/p/pritcpa01.html\n",
      "/players/g/gaffoda01.html\n",
      "/players/l/looneke01.html\n",
      "/players/m/moodymo01.html\n",
      "/players/t/taylote01.html\n",
      "/players/a/azubuud01.html\n",
      "/players/s/sarrol01.html\n",
      "/players/s/stevela01.html\n",
      "/players/g/gabriwe01.html\n",
      "/players/b/browngr01.html\n",
      "/players/c/colliza01.html\n",
      "/players/b/barbole01.html\n",
      "/players/m/mayse01.html\n",
      "/players/o/obertfa01.html\n",
      "/players/p/pecheol01.html\n",
      "/players/f/finlemi01.html\n",
      "/players/j/jawaina01.html\n",
      "/players/t/thomake01.html\n",
      "/players/j/jonesso01.html\n",
      "/players/k/karlco01.html\n",
      "/players/a/allenma01.html\n",
      "/players/n/nestera01.html\n"
     ]
    },
    {
     "name": "stdout",
     "output_type": "stream",
     "text": [
      "/players/r/ratlith01.html\n",
      "/players/s/singlja01.html\n",
      "/players/t/tayloje02.html\n",
      "/players/e/elyme01.html\n",
      "/players/c/childjo01.html\n",
      "/players/c/collini01.html\n",
      "/players/m/mcguido01.html\n",
      "/players/j/jeffeot01.html\n",
      "/players/e/ebankde01.html\n",
      "/players/h/harrejo01.html\n",
      "/players/t/thompmy02.html\n",
      "/players/b/battito01.html\n",
      "/players/p/pittmde01.html\n",
      "/players/w/willijo03.html\n",
      "/players/m/masonro01.html\n",
      "/players/s/smithgr02.html\n",
      "/players/e/ezelife01.html\n",
      "/players/h/hamiljo02.html\n",
      "/players/m/mekelga01.html\n",
      "/players/t/teaguma01.html\n",
      "/players/a/anticpe01.html\n",
      "/players/m/moultar01.html\n",
      "/players/p/papanko01.html\n",
      "/players/f/freeljo01.html\n",
      "/players/m/mcgarmi01.html\n",
      "/players/o/onuakar01.html\n",
      "/players/c/cunnija01.html\n",
      "/players/e/ennisty01.html\n",
      "/players/j/johnsch04.html\n",
      "/players/o/obryajo01.html\n",
      "/players/m/mcculch01.html\n",
      "/players/l/liggide01.html\n",
      "/players/m/mcclesh01.html\n",
      "/players/r/reedwi02.html\n",
      "/players/w/whiteok01.html\n",
      "/players/s/swanica01.html\n",
      "/players/w/wilsoja02.html\n",
      "/players/r/richama01.html\n",
      "/players/d/davisde01.html\n",
      "/players/p/purviro01.html\n",
      "/players/m/motlejo01.html\n",
      "/players/b/boldejo01.html\n",
      "/players/m/mckinal01.html\n",
      "/players/m/mejrisa01.html\n",
      "/players/s/spaldra01.html\n",
      "/players/a/alkinra01.html\n",
      "/players/f/fernabr01.html\n",
      "/players/l/langfro01.html\n",
      "/players/w/wisemja01.html\n",
      "/players/r/randlch01.html\n",
      "/players/m/merrisa01.html\n",
      "/players/m/mellini01.html\n",
      "/players/w/watsopa01.html\n",
      "/players/d/doziepj01.html\n",
      "/players/g/gillan01.html\n",
      "/players/b/bolmale01.html\n",
      "/players/y/yurtsom01.html\n",
      "/players/b/brownch05.html\n",
      "/players/k/knighna01.html\n",
      "/players/c/claxtni01.html\n",
      "/players/p/pangoke01.html\n",
      "/players/s/sharpda01.html\n",
      "/players/l/landajo01.html\n",
      "/players/j/jacksis01.html\n",
      "/players/r/reedda01.html\n",
      "/players/g/garubus01.html\n",
      "/players/k/kalaige01.html\n",
      "/players/s/simsje01.html\n",
      "/players/c/cartean01.html\n",
      "/players/m/masonde01.html\n",
      "/players/n/najered01.html\n",
      "/players/m/mooremi01.html\n",
      "/players/s/simmobo01.html\n",
      "/players/d/davisri01.html\n",
      "/players/t/thomaet01.html\n",
      "/players/d/diawaya01.html\n",
      "/players/g/giddejr01.html\n",
      "/players/s/scalabr01.html\n",
      "/players/s/smithcr01.html\n",
      "/players/b/bendejo01.html\n",
      "/players/c/collija03.html\n",
      "/players/p/powele01.html\n",
      "/players/m/mingya01.html\n",
      "/players/c/carnero01.html\n",
      "/players/j/jacksda01.html\n",
      "/players/f/fosteje01.html\n",
      "/players/e/elsonfr01.html\n",
      "/players/d/diopde01.html\n",
      "/players/o/ortonda01.html\n",
      "/players/m/magloja01.html\n",
      "/players/n/novakst01.html\n",
      "/players/j/jenkijo01.html\n",
      "/players/j/johnsiv01.html\n",
      "/players/j/jamesbe01.html\n",
      "/players/r/ricegl02.html\n",
      "/players/w/williel01.html\n",
      "/players/b/bennean01.html\n",
      "/players/c/chrispa01.html\n",
      "/players/s/stokeja01.html\n",
      "/players/m/marblde01.html\n",
      "/players/a/aldemfu01.html\n",
      "/players/h/hillida01.html\n",
      "/players/i/inglida01.html\n",
      "/players/l/laproni01.html\n",
      "/players/m/mickejo01.html\n",
      "/players/p/plumlma02.html\n",
      "/players/e/ellenhe01.html\n",
      "/players/j/johnsda04.html\n",
      "/players/h/huestjo01.html\n",
      "/players/m/millema01.html\n",
      "/players/w/washbju01.html\n",
      "/players/d/diallch01.html\n",
      "/players/l/leaftj01.html\n",
      "/players/b/bradlto01.html\n",
      "/players/b/bolbo01.html\n",
      "/players/w/watanyu01.html\n",
      "/players/t/toupaax01.html\n",
      "/players/s/samanlu01.html\n",
      "/players/c/careyve01.html\n",
      "/players/c/cookty01.html\n",
      "/players/w/watertr01.html\n",
      "/players/g/gillefr01.html\n",
      "/players/k/kinglo02.html\n",
      "/players/r/reedpa01.html\n",
      "/players/r/richani01.html\n",
      "/players/w/wanambr01.html\n",
      "/players/n/nesmiaa01.html\n",
      "/players/m/mayssk01.html\n",
      "/players/c/cancavl01.html\n",
      "/players/g/graveha01.html\n",
      "/players/s/stanlca01.html\n",
      "/players/s/smithja04.html\n",
      "/players/h/hugheel01.html\n",
      "/players/l/liveris01.html\n",
      "/players/l/louzama01.html\n",
      "/players/b/brownbo02.html\n",
      "/players/p/poweljo01.html\n",
      "/players/m/murraro01.html\n",
      "/players/b/boykiea01.html\n",
      "/players/p/poseyja01.html\n",
      "/players/w/willima03.html\n",
      "/players/s/songada01.html\n",
      "/players/h/houseed01.html\n",
      "/players/m/maynoer01.html\n",
      "/players/h/hunteli01.html\n",
      "/players/u/ukicro01.html\n",
      "/players/j/johnsan02.html\n",
      "/players/h/hudsole01.html\n",
      "/players/s/stackje01.html\n",
      "/players/h/hairsma01.html\n",
      "/players/r/richach01.html\n",
      "/players/c/collima01.html\n",
      "/players/q/quinnch01.html\n",
      "/players/c/cookbr01.html\n",
      "/players/j/jetereu01.html\n",
      "/players/l/lawac01.html\n",
      "/players/h/haranlu01.html\n",
      "/players/d/dioguik01.html\n",
      "/players/s/shakumu01.html\n",
      "/players/r/russewa02.html\n",
      "/players/j/johnsja02.html\n",
      "/players/j/jonesdo02.html\n",
      "/players/u/ubileed01.html\n",
      "/players/h/harrite01.html\n",
      "/players/h/higgico01.html\n",
      "/players/k/kennedj01.html\n",
      "/players/a/almonmo01.html\n",
      "/players/l/lambdo01.html\n",
      "/players/j/joneske01.html\n",
      "/players/w/waltolu01.html\n",
      "/players/k/kravtvi01.html\n",
      "/players/j/johnsor01.html\n",
      "/players/h/haddaha01.html\n",
      "/players/s/shengto01.html\n",
      "/players/r/radulmi01.html\n",
      "/players/v/varnaja01.html\n",
      "/players/j/jordaje01.html\n",
      "/players/w/weartr01.html\n",
      "/players/j/jeffeco01.html\n",
      "/players/a/adamsjo01.html\n",
      "/players/l/ledori01.html\n",
      "/players/g/greener01.html\n",
      "/players/b/buyckdw01.html\n",
      "/players/c/cottobr01.html\n",
      "/players/p/pattela01.html\n",
      "/players/h/huertma01.html\n",
      "/players/y/youngja01.html\n",
      "/players/m/munfoxa02.html\n",
      "/players/c/chrisse01.html\n",
      "/players/g/gibsojo01.html\n",
      "/players/j/jackspi01.html\n",
      "/players/w/willial03.html\n",
      "/players/p/poythal01.html\n",
      "/players/p/papagge01.html\n",
      "/players/b/brussni01.html\n",
      "/players/p/paulbr01.html\n",
      "/players/c/cavanty01.html\n",
      "/players/g/georgma01.html\n",
      "/players/g/grayjo01.html\n",
      "/players/h/henrymy01.html\n",
      "/players/h/hicksis01.html\n",
      "/players/j/jonesja04.html\n",
      "/players/i/ingraan01.html\n",
      "/players/h/hollajo02.html\n",
      "/players/b/burtode02.html\n",
      "/players/h/hamilda02.html\n",
      "/players/b/briscis01.html\n",
      "/players/a/adamsja01.html\n",
      "/players/r/reynoca01.html\n",
      "/players/b/broekry01.html\n",
      "/players/b/bertada02.html\n",
      "/players/g/gudurma01.html\n",
      "/players/e/edwarca01.html\n",
      "/players/t/thomama02.html\n",
      "/players/c/chiozch01.html\n",
      "/players/b/bonejo01.html\n",
      "/players/w/windldy01.html\n",
      "/players/n/nowelja01.html\n",
      "/players/l/lewiski01.html\n",
      "/players/g/guyky01.html\n",
      "/players/m/mannini01.html\n",
      "/players/o/onimi01.html\n",
      "/players/b/brantja01.html\n",
      "/players/l/lamban01.html\n",
      "/players/h/harrija01.html\n",
      "/players/t/thomabr01.html\n",
      "/players/d/deckga01.html\n",
      "/players/r/robinju01.html\n",
      "/players/b/bantoda01.html\n",
      "/players/a/aldamsa01.html\n",
      "/players/c/chrisjo01.html\n",
      "/players/t/thorjt01.html\n",
      "/players/s/schofad01.html\n",
      "/players/p/pinsoth01.html\n",
      "/players/b/bostobr01.html\n",
      "/players/w/wainris01.html\n",
      "/players/b/butleja02.html\n",
      "/players/n/nnajize01.html\n",
      "/players/a/alvarjo01.html\n",
      "/players/w/wiggili01.html\n",
      "/players/w/waterli01.html\n",
      "/players/c/cannade01.html\n",
      "/players/p/pickeja01.html\n",
      "/players/o/ollieke01.html\n",
      "/players/s/skinnbr01.html\n",
      "/players/a/anderda03.html\n",
      "/players/h/harrimi01.html\n",
      "/players/a/armsthi01.html\n",
      "/players/c/caracde01.html\n",
      "/players/m/marksse01.html\n",
      "/players/j/johnstr01.html\n",
      "/players/h/haywala01.html\n",
      "/players/d/dowdeza01.html\n",
      "/players/o/owensla01.html\n",
      "/players/d/dentmju01.html\n",
      "/players/j/johnsar02.html\n",
      "/players/a/alabiso01.html\n",
      "/players/h/honeyty01.html\n",
      "/players/r/randosh01.html\n",
      "/players/t/thomama01.html\n",
      "/players/c/chrisdi01.html\n",
      "/players/g/garredi02.html\n",
      "/players/n/nedovne01.html\n",
      "/players/n/nunnaja01.html\n",
      "/players/m/murryto01.html\n",
      "/players/s/sivape01.html\n",
      "/players/j/johnsni01.html\n",
      "/players/d/drewla02.html\n",
      "/players/h/hunterj01.html\n",
      "/players/e/eddieja01.html\n",
      "/players/b/baldwwa01.html\n",
      "/players/m/morrija01.html\n",
      "/players/p/perralo01.html\n",
      "/players/h/hayesni01.html\n",
      "/players/m/maconda01.html\n",
      "/players/r/robinde01.html\n",
      "/players/e/evansja02.html\n",
      "/players/m/mitrona01.html\n",
      "/players/m/musadz01.html\n",
      "/players/j/jamesju01.html\n",
      "/players/c/clemoch01.html\n",
      "/players/p/pasecan01.html\n",
      "/players/f/fallta01.html\n",
      "/players/m/morgaju01.html\n",
      "/players/j/johnsal02.html\n",
      "/players/d/diakima01.html\n",
      "/players/k/kabenmf01.html\n",
      "/players/s/sirvyde01.html\n",
      "/players/s/smailal01.html\n",
      "/players/d/dotsode01.html\n",
      "/players/r/ramseja01.html\n",
      "/players/h/howarma02.html\n",
      "/players/b/bouknja01.html\n",
      "/players/c/champju01.html\n",
      "/players/m/mcbrimi01.html\n",
      "/players/g/garrema01.html\n",
      "/players/p/palmetr01.html\n",
      "/players/p/pottemi01.html\n",
      "/players/m/moonxa01.html\n",
      "/players/q/quetane01.html\n",
      "/players/h/hillma01.html\n",
      "/players/d/dowtije01.html\n",
      "/players/k/keybr01.html\n",
      "/players/l/lundbga01.html\n",
      "/players/w/willise01.html\n",
      "/players/c/curryed01.html\n",
      "/players/w/wilksmi01.html\n",
      "/players/b/banksma01.html\n",
      "/players/l/landrma01.html\n",
      "/players/h/huntest01.html\n",
      "/players/w/weaveky01.html\n",
      "/players/m/morrira01.html\n",
      "/players/w/warrewi01.html\n",
      "/players/j/johnsch03.html\n",
      "/players/d/daniean01.html\n",
      "/players/s/selbyjo01.html\n",
      "/players/b/balkmre01.html\n"
     ]
    },
    {
     "name": "stdout",
     "output_type": "stream",
     "text": [
      "/players/d/davisjo02.html\n",
      "/players/f/fortsco01.html\n",
      "/players/s/smithje01.html\n",
      "/players/e/engliki01.html\n",
      "/players/w/waynsma01.html\n",
      "/players/h/hansbbe01.html\n",
      "/players/m/murpher01.html\n",
      "/players/b/babbch01.html\n",
      "/players/c/cherrwi01.html\n",
      "/players/d/datomlu01.html\n",
      "/players/m/mcneaje01.html\n",
      "/players/p/pleisti01.html\n",
      "/players/h/harpeju01.html\n",
      "/players/f/feldeka01.html\n",
      "/players/z/zimmest01.html\n",
      "/players/c/chrisra01.html\n",
      "/players/l/longsh01.html\n",
      "/players/q/quartti01.html\n",
      "/players/u/uthofja01.html\n",
      "/players/j/jacksde01.html\n",
      "/players/m/magetjo01.html\n",
      "/players/q/qizh01.html\n",
      "/players/d/doylemi01.html\n",
      "/players/p/peteral01.html\n",
      "/players/w/whitean01.html\n",
      "/players/c/cooleja01.html\n",
      "/players/t/terreja01.html\n",
      "/players/s/silvach01.html\n",
      "/players/p/pelleno01.html\n",
      "/players/m/mikaer01.html\n",
      "/players/n/norveza01.html\n",
      "/players/m/mokokad01.html\n",
      "/players/t/terryty01.html\n",
      "/players/m/mcderse01.html\n",
      "/players/j/jonesma05.html\n",
      "/players/m/maneka01.html\n",
      "/players/f/frankro01.html\n",
      "/players/m/martije02.html\n",
      "/players/o/oliveca01.html\n",
      "/players/p/portejo01.html\n",
      "/players/w/weathqu01.html\n",
      "/players/b/bassech01.html\n",
      "/players/j/joneska01.html\n",
      "/players/j/johnsbj01.html\n",
      "/players/h/highsha01.html\n",
      "/players/w/wieskjo01.html\n",
      "/players/n/nixda01.html\n",
      "/players/b/blevike01.html\n",
      "/players/p/ponsyv01.html\n",
      "/players/h/huntfe01.html\n",
      "/players/h/hausesa01.html\n",
      "/players/r/rushka01.html\n",
      "/players/d/davispa01.html\n",
      "/players/m/mensapo01.html\n",
      "/players/m/morriad01.html\n",
      "/players/b/brezepr01.html\n",
      "/players/h/hunteot01.html\n",
      "/players/t/tuckeal02.html\n",
      "/players/c/conrowi01.html\n",
      "/players/d/dienetr01.html\n",
      "/players/h/hartja01.html\n",
      "/players/j/jacksce01.html\n",
      "/players/c/collish01.html\n",
      "/players/d/duprero01.html\n",
      "/players/n/ndiayha01.html\n",
      "/players/s/sypa01.html\n",
      "/players/t/thomptr02.html\n",
      "/players/j/johnsca01.html\n",
      "/players/e/emmetan01.html\n",
      "/players/f/footeje01.html\n",
      "/players/m/macklve01.html\n",
      "/players/m/murphke01.html\n",
      "/players/j/josepkr01.html\n",
      "/players/k/kuzmiog01.html\n",
      "/players/f/frankja01.html\n",
      "/players/t/thomaad01.html\n",
      "/players/e/edwarsh01.html\n",
      "/players/w/wareca01.html\n",
      "/players/s/stephdj01.html\n",
      "/players/m/mitchto02.html\n",
      "/players/b/bairsca01.html\n",
      "/players/w/wilcocj01.html\n",
      "/players/s/smithru01.html\n",
      "/players/t/tavarwa01.html\n",
      "/players/a/applike01.html\n",
      "/players/s/stephal01.html\n",
      "/players/k/kaunsa01.html\n",
      "/players/o/ochefda01.html\n",
      "/players/h/hammoaj01.html\n",
      "/players/o/onuakch01.html\n",
      "/players/w/wiltjky01.html\n",
      "/players/c/clavegi01.html\n",
      "/players/w/webbja01.html\n",
      "/players/h/hearnre01.html\n",
      "/players/m/moorebe01.html\n",
      "/players/j/johnsbr02.html\n",
      "/players/j/jacksaa01.html\n",
      "/players/e/edwarvi01.html\n",
      "/players/l/lydonty01.html\n",
      "/players/c/creekmi01.html\n",
      "/players/h/hernade01.html\n",
      "/players/c/cheatzy01.html\n",
      "/players/j/jeffeam01.html\n",
      "/players/t/tuckera01.html\n",
      "/players/m/moonema01.html\n",
      "/players/f/frazimi01.html\n",
      "/players/h/howarwi01.html\n",
      "/players/p/poirivi01.html\n",
      "/players/c/chealjo01.html\n",
      "/players/l/lecquja01.html\n",
      "/players/h/harpeja01.html\n",
      "/players/b/boldema01.html\n",
      "/players/m/magnawi01.html\n",
      "/players/w/winstca01.html\n",
      "/players/d/darlina01.html\n",
      "/players/h/halldo01.html\n",
      "/players/r/rillegr01.html\n",
      "/players/w/woodaro01.html\n",
      "/players/b/bryanel01.html\n",
      "/players/s/sprinja01.html\n",
      "/players/l/lewissc01.html\n",
      "/players/k/kulboar01.html\n",
      "/players/c/coopesh01.html\n",
      "/players/j/jonesca03.html\n",
      "/players/s/schakjo01.html\n",
      "/players/o/oturuda01.html\n",
      "/players/q/queentr01.html\n",
      "/players/s/swordcr01.html\n",
      "/players/c/caverah01.html\n",
      "/players/p/powelmy01.html\n",
      "/players/n/nembhrj01.html\n",
      "/players/c/cacokde01.html\n",
      "/players/f/fittsma01.html\n",
      "/players/b/bowenry01.html\n",
      "/players/h/haislma01.html\n",
      "/players/g/griffta01.html\n",
      "/players/a/alexajo01.html\n",
      "/players/a/anderan02.html\n",
      "/players/r/rautian01.html\n",
      "/players/l/lawalga01.html\n",
      "/players/b/brackcr01.html\n",
      "/players/c/cousima01.html\n",
      "/players/e/ewingpa02.html\n",
      "/players/s/silerga01.html\n",
      "/players/h/hornede01.html\n",
      "/players/r/reidry01.html\n",
      "/players/b/bensoke02.html\n",
      "/players/a/ahearbl01.html\n",
      "/players/o/ohlbrti01.html\n",
      "/players/m/melofa01.html\n",
      "/players/m/mitchto03.html\n",
      "/players/j/johnsda03.html\n",
      "/players/s/southja01.html\n",
      "/players/f/felixca01.html\n",
      "/players/k/kirkal01.html\n",
      "/players/w/whittsh01.html\n",
      "/players/g/gordodr01.html\n",
      "/players/s/stockda01.html\n",
      "/players/j/jerregr01.html\n",
      "/players/d/dragizo01.html\n",
      "/players/b/bhullsi01.html\n",
      "/players/m/montelu01.html\n",
      "/players/a/alexacl01.html\n",
      "/players/d/dukandu01.html\n",
      "/players/d/dawsobr01.html\n",
      "/players/g/gbinimi01.html\n",
      "/players/b/bolomjo01.html\n",
      "/players/c/cookech01.html\n",
      "/players/c/clevean01.html\n",
      "/players/a/anigbik01.html\n",
      "/players/w/willima05.html\n",
      "/players/h/hopsosc01.html\n",
      "/players/w/warneja01.html\n",
      "/players/p/paigema01.html\n",
      "/players/l/loftoza01.html\n",
      "/players/w/welshth01.html\n",
      "/players/k/kingge03.html\n",
      "/players/m/macurjp01.html\n",
      "/players/l/loydjo01.html\n",
      "/players/f/frazime01.html\n",
      "/players/t/terryem01.html\n",
      "/players/a/antetko01.html\n",
      "/players/m/machasc01.html\n",
      "/players/g/garrebi01.html\n",
      "/players/w/willini01.html\n",
      "/players/h/hallde01.html\n",
      "/players/p/pondssh01.html\n",
      "/players/h/hintona01.html\n",
      "/players/b/beyty01.html\n",
      "/players/b/bowenbr02.html\n",
      "/players/b/brimaam01.html\n",
      "/players/a/alexaty01.html\n",
      "/players/a/ayayijo01.html\n",
      "/players/s/scrubja01.html\n",
      "/players/s/simonma01.html\n",
      "/players/c/cornepe01.html\n",
      "/players/m/mclauja01.html\n",
      "/players/j/johnsja05.html\n",
      "/players/h/hallty01.html\n",
      "/players/b/barbeca01.html\n",
      "/players/b/buchash01.html\n",
      "/players/t/toddis01.html\n",
      "/players/s/sneedxa01.html\n",
      "/players/e/echenja01.html\n",
      "/players/e/edwarro01.html\n",
      "/players/h/henryaa01.html\n",
      "/players/j/johnsda08.html\n",
      "/players/w/wrighmo01.html\n",
      "/players/g/gildetr01.html\n",
      "/players/o/obryapa01.html\n",
      "/players/f/foylead01.html\n",
      "/players/c/claxtsp01.html\n",
      "/players/j/johnsal01.html\n",
      "/players/j/jonesdw02.html\n",
      "/players/g/greenor01.html\n",
      "/players/l/leslitr01.html\n",
      "/players/h/hobsoda01.html\n",
      "/players/d/dawsoer01.html\n",
      "/players/w/watkida01.html\n",
      "/players/s/silasxa01.html\n",
      "/players/z/zellelu01.html\n",
      "/players/s/smithch05.html\n",
      "/players/d/dawkian01.html\n",
      "/players/b/benimje01.html\n",
      "/players/w/wearda01.html\n",
      "/players/o/obriejj01.html\n",
      "/players/s/stonedi01.html\n",
      "/players/t/tobeymi01.html\n",
      "/players/m/mathima01.html\n",
      "/players/c/costema01.html\n",
      "/players/p/pulleja01.html\n",
      "/players/h/huntevi01.html\n",
      "/players/w/wileyja01.html\n",
      "/players/m/mccreer01.html\n",
      "/players/a/akoonde01.html\n",
      "/players/d/derrima01.html\n",
      "/players/m/matenya01.html\n",
      "/players/g/grantdo01.html\n",
      "/players/d/duvaltr01.html\n",
      "/players/c/caupatr01.html\n",
      "/players/k/kiddst01.html\n",
      "/players/h/herveke01.html\n",
      "/players/r/reavejo02.html\n",
      "/players/l/lawvi01.html\n",
      "/players/n/newmama01.html\n",
      "/players/o/owensta01.html\n",
      "/players/w/whittgr01.html\n",
      "/players/w/wrighmc01.html\n",
      "/players/p/prestja01.html\n",
      "/players/o/omorueu01.html\n",
      "/players/b/basspa01.html\n",
      "/players/c/crittja01.html\n",
      "/players/w/wrighch02.html\n",
      "/players/b/bentibe01.html\n",
      "/players/m/mckintr01.html\n",
      "/players/d/davisty01.html\n",
      "/players/l/lucaska01.html\n",
      "/players/s/siberjo01.html\n",
      "/players/d/delgaan01.html\n",
      "/players/w/wrighju02.html\n",
      "/players/h/haganas01.html\n",
      "/players/j/jarrede01.html\n",
      "/players/h/huffja01.html\n",
      "/players/s/scotttr01.html\n",
      "/players/m/mccluma01.html\n",
      "/players/d/delauja01.html\n",
      "/players/g/goodwjo01.html\n",
      "/players/h/harriel01.html\n",
      "/players/c/clarkco01.html\n",
      "/players/s/shayoma01.html\n",
      "/players/v/vildolu01.html\n",
      "/players/t/teskejo01.html\n",
      "/players/a/agerma01.html\n",
      "/players/h/hannadu01.html\n",
      "/players/a/alexaky01.html\n",
      "/players/r/ryanma01.html\n",
      "/players/c/curryja01.html\n",
      "/players/w/walkemj01.html\n",
      "/players/d/davisjd01.html\n",
      "/players/c/chrisma02.html\n",
      "/players/p/pippesc02.html\n",
      "/players/s/swideco01.html\n",
      "/players/r/rolliry01.html\n",
      "/players/b/baldwpa01.html\n",
      "/players/h/houstca01.html\n",
      "/players/h/harrike01.html\n",
      "/players/i/iveyja01.html\n",
      "/players/d/durenja01.html\n",
      "/players/b/boehebu01.html\n",
      "/players/d/davisjo06.html\n",
      "/players/n/nembhan01.html\n",
      "/players/b/brownke03.html\n",
      "/players/s/sengual01.html\n",
      "/players/h/hudgitr01.html\n",
      "/players/m/martity01.html\n",
      "/players/g/griffaj01.html\n",
      "/players/j/joneshe01.html\n",
      "/players/d/daniedy01.html\n",
      "/players/s/seabrde01.html\n",
      "/players/w/willial06.html\n",
      "/players/r/roddyda01.html\n",
      "/players/l/laravja01.html\n",
      "/players/w/willivi01.html\n",
      "/players/c/chandke01.html\n",
      "/players/l/loftoke01.html\n",
      "/players/t/terryda01.html\n",
      "/players/j/jovicni01.html\n",
      "/players/s/smithdr01.html\n",
      "/players/m/mobleev01.html\n",
      "/players/m/mobleis01.html\n",
      "/players/k/kolokch01.html\n",
      "/players/h/harpero02.html\n",
      "/players/d/diengou01.html\n",
      "/players/w/willija07.html\n",
      "/players/m/minotjo01.html\n",
      "/players/m/moorewe01.html\n",
      "/players/w/willima07.html\n",
      "/players/m/mcgowbr01.html\n"
     ]
    },
    {
     "name": "stdout",
     "output_type": "stream",
     "text": [
      "/players/s/sochaje01.html\n",
      "/players/w/weslebl01.html\n",
      "/players/b/branhma01.html\n",
      "/players/b/braunch01.html\n",
      "/players/w/watsope01.html\n",
      "/players/a/agbajoc01.html\n",
      "/players/f/fontesi01.html\n",
      "/players/h/hardyja02.html\n",
      "/players/w/walkeja01.html\n",
      "/players/m/mitchda01.html\n",
      "/players/m/monekch01.html\n",
      "/players/g/greenaj01.html\n",
      "/players/b/beaucma01.html\n",
      "/players/k/keelstr01.html\n",
      "/players/j/juzanjo01.html\n",
      "/players/w/whiteja03.html\n",
      "/players/h/halljo02.html\n",
      "/players/d/diabamo01.html\n",
      "/players/c/cainja01.html\n",
      "/players/b/barlodo01.html\n",
      "/players/b/butlejo01.html\n",
      "/players/w/washity02.html\n",
      "/players/l/lawsoaj01.html\n",
      "/players/r/robinor01.html\n",
      "/players/e/elliske01.html\n",
      "/players/c/champju02.html\n",
      "/players/d/daysda01.html\n",
      "/players/b/badjiib01.html\n",
      "/players/r/rhodeja01.html\n",
      "/players/l/liddeej01.html\n",
      "/players/w/willido02.html\n",
      "/players/b/bouyeja01.html\n",
      "/players/u/umudest01.html\n",
      "/players/j/jacksqu01.html\n",
      "/players/q/quinole01.html\n",
      "/players/c/cooksxa01.html\n",
      "/players/i/inglejo01.html\n"
     ]
    }
   ],
   "source": [
    "# This looks at each player entry and adds an injury status indicator. \n",
    "# 1 = healthy, 0 = scratch, .9 = probable, .5 = questionable, and .1 = doubtful. \n",
    "# If status is not active, probabilities are 25% scratch, 45% doubtful, 5% probable, and 25% questionable.\n",
    "# If status is active but last game was not active, probabilities are 25% healthy, 25% questionable, 45% probable, 5% doubtful.\n",
    "\n",
    "# # First we create a list of unique names from the player database.\n",
    "player_cursor.execute(\"SELECT DISTINCT name FROM players WHERE injury IS NULL\")\n",
    "player_names = player_cursor.fetchall()\n",
    "\n",
    "for player_name in player_names:\n",
    "    name = player_name[0]\n",
    "    print(name)\n",
    "    player_cursor.execute(\"SELECT status, year, month, day, rowid, injury FROM players WHERE name = (?) ORDER BY year ASC, month ASC, day ASC\", [name])\n",
    "    status_list = player_cursor.fetchall()    \n",
    "    last_injury = 'active'\n",
    "    # This sets the player's injury status to 1 if it's their first game.\n",
    "    table_input = [1, status_list[0][4]]\n",
    "    if status_list[0][5] is None:\n",
    "        player_cursor.execute(\"UPDATE players SET injury = (?) WHERE rowid = (?)\", table_input)\n",
    "        player_connection.commit()\n",
    "\n",
    "    # This set's the player's injury status for all following games.\n",
    "    i=0\n",
    "    while i < len(status_list)-1:\n",
    "        i += 1 # Why is this immediately incrementing by 1?\n",
    "        # This sets the injury score if the player was not active.\n",
    "        if status_list[i][0] != 'active' or status_list[i][0] != 'Did Not Play':\n",
    "            outcome = random.random()\n",
    "            if outcome < 0.25:\n",
    "                this_injury = 0.0\n",
    "            elif outcome < 0.7:\n",
    "                this_injury = 0.1\n",
    "            elif outcome < 0.95:\n",
    "                this_injury = 0.5\n",
    "            else:\n",
    "                this_injury = 0.9\n",
    "        # This sets the injury score if the player is active, but wasn't in the last game (or if this is the first game record).\n",
    "        elif last_injury != 'active' or last_injury != 'Did Not Play':\n",
    "            outcome = random.random()\n",
    "            if outcome < 0.05:\n",
    "                this_injury = 0.1\n",
    "            elif outcome < 0.3:\n",
    "                this_injury = 0.5\n",
    "            elif outcome < 0.75:\n",
    "                this_injury = 0.9\n",
    "            else:\n",
    "                this_injury = 1.0\n",
    "        else:\n",
    "            this_injury = 1.0\n",
    "\n",
    "        last_injury = status_list[i][0]\n",
    "        table_input = [this_injury, status_list[i][4]]\n",
    "        if status_list[i][5] is None:\n",
    "            player_cursor.execute(\"UPDATE players SET injury = (?) WHERE rowid = (?)\", table_input)\n",
    "            player_connection.commit()"
   ]
  }
 ],
 "metadata": {
  "kernelspec": {
   "display_name": "Python 3 (ipykernel)",
   "language": "python",
   "name": "python3"
  },
  "language_info": {
   "codemirror_mode": {
    "name": "ipython",
    "version": 3
   },
   "file_extension": ".py",
   "mimetype": "text/x-python",
   "name": "python",
   "nbconvert_exporter": "python",
   "pygments_lexer": "ipython3",
   "version": "3.8.2"
  }
 },
 "nbformat": 4,
 "nbformat_minor": 5
}
